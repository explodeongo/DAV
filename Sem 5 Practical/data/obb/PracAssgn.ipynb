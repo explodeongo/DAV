{
 "cells": [
  {
   "cell_type": "code",
   "execution_count": 2,
   "id": "c072b47b",
   "metadata": {},
   "outputs": [],
   "source": [
    "import numpy as np\n",
    "import pandas as pd\n",
    "import matplotlib.pyplot as plt\n",
    "import seaborn as sns\n",
    "\n",
    "sns.set()"
   ]
  },
  {
   "cell_type": "markdown",
   "id": "f469ed8e",
   "metadata": {},
   "source": [
    "## Q1"
   ]
  },
  {
   "cell_type": "code",
   "execution_count": 2,
   "id": "86b4ca70",
   "metadata": {},
   "outputs": [],
   "source": [
    "bag = [25,26,21,22,31,29,33,34,26,30,31,46]"
   ]
  },
  {
   "cell_type": "markdown",
   "id": "41d4f2bb",
   "metadata": {},
   "source": [
    "#### A) Create `bag_weights` from bag array of shape (3, 4)"
   ]
  },
  {
   "cell_type": "code",
   "execution_count": 3,
   "id": "877072cd",
   "metadata": {},
   "outputs": [
    {
     "data": {
      "text/plain": [
       "array([[25, 26, 21, 22],\n",
       "       [31, 29, 33, 34],\n",
       "       [26, 30, 31, 46]])"
      ]
     },
     "execution_count": 3,
     "metadata": {},
     "output_type": "execute_result"
    }
   ],
   "source": [
    "bag_weights = np.array(bag).reshape(3,4)\n",
    "bag_weights"
   ]
  },
  {
   "cell_type": "markdown",
   "id": "5fdaba4a",
   "metadata": {},
   "source": [
    "#### B) Use Numpy library to display the mean, variance and median of the given data in `bag_weights`"
   ]
  },
  {
   "cell_type": "code",
   "execution_count": 4,
   "id": "51d343bf",
   "metadata": {},
   "outputs": [
    {
     "name": "stdout",
     "output_type": "stream",
     "text": [
      "Mean: 29.5\n",
      "Variance: 40.25\n",
      "Median: 29.5\n"
     ]
    }
   ],
   "source": [
    "print(\"Mean:\", np.mean(bag_weights))\n",
    "print(\"Variance:\", np.var(bag_weights))\n",
    "print(\"Median:\", np.median(bag_weights))"
   ]
  },
  {
   "cell_type": "markdown",
   "id": "e551260d",
   "metadata": {},
   "source": [
    "#### C) Write a command to display the count of values greater than the median in `bag_weights`"
   ]
  },
  {
   "cell_type": "code",
   "execution_count": 5,
   "id": "884fa5e2",
   "metadata": {},
   "outputs": [
    {
     "data": {
      "text/plain": [
       "6"
      ]
     },
     "execution_count": 5,
     "metadata": {},
     "output_type": "execute_result"
    }
   ],
   "source": [
    "(bag_weights > np.median(bag_weights)).sum()"
   ]
  },
  {
   "cell_type": "markdown",
   "id": "6340db99",
   "metadata": {},
   "source": [
    "#### D) Transpose `bag_weights` and then split it in two arrays `bagA` and `bagB` having 2 rows and 3 columns each."
   ]
  },
  {
   "cell_type": "code",
   "execution_count": 6,
   "id": "dead6e18",
   "metadata": {},
   "outputs": [
    {
     "data": {
      "text/plain": [
       "array([[25, 31, 26],\n",
       "       [26, 29, 30],\n",
       "       [21, 33, 31],\n",
       "       [22, 34, 46]])"
      ]
     },
     "execution_count": 6,
     "metadata": {},
     "output_type": "execute_result"
    }
   ],
   "source": [
    "bag_weights = bag_weights.T\n",
    "bag_weights"
   ]
  },
  {
   "cell_type": "code",
   "execution_count": 7,
   "id": "3729dfad",
   "metadata": {},
   "outputs": [],
   "source": [
    "bagA, bagB = bag_weights[:2, :], bag_weights[2:, :]"
   ]
  },
  {
   "cell_type": "code",
   "execution_count": 8,
   "id": "93ab5612",
   "metadata": {},
   "outputs": [
    {
     "data": {
      "text/plain": [
       "array([[25, 31, 26],\n",
       "       [26, 29, 30]])"
      ]
     },
     "execution_count": 8,
     "metadata": {},
     "output_type": "execute_result"
    }
   ],
   "source": [
    "bagA"
   ]
  },
  {
   "cell_type": "code",
   "execution_count": 9,
   "id": "1f97a902",
   "metadata": {},
   "outputs": [
    {
     "data": {
      "text/plain": [
       "array([[21, 33, 31],\n",
       "       [22, 34, 46]])"
      ]
     },
     "execution_count": 9,
     "metadata": {},
     "output_type": "execute_result"
    }
   ],
   "source": [
    "bagB"
   ]
  },
  {
   "cell_type": "markdown",
   "id": "0e1ec40c",
   "metadata": {},
   "source": [
    "#### E) Sort `bagA` such that it brings the highest value of the row in the first column. Sort `bagB` such that it brings the lowest value of the row in the first column."
   ]
  },
  {
   "cell_type": "code",
   "execution_count": 10,
   "id": "66933472",
   "metadata": {},
   "outputs": [
    {
     "data": {
      "text/plain": [
       "array([[31, 26, 25],\n",
       "       [30, 29, 26]])"
      ]
     },
     "execution_count": 10,
     "metadata": {},
     "output_type": "execute_result"
    }
   ],
   "source": [
    "bagA = -np.sort(-bagA)\n",
    "bagA"
   ]
  },
  {
   "cell_type": "code",
   "execution_count": 11,
   "id": "62c8c3a8",
   "metadata": {},
   "outputs": [
    {
     "data": {
      "text/plain": [
       "array([[21, 31, 33],\n",
       "       [22, 34, 46]])"
      ]
     },
     "execution_count": 11,
     "metadata": {},
     "output_type": "execute_result"
    }
   ],
   "source": [
    "bagB = np.sort(bagB)\n",
    "bagB"
   ]
  },
  {
   "cell_type": "markdown",
   "id": "0077cbc8",
   "metadata": {},
   "source": [
    "#### F) Find the union and intersection of values in `bagA` and `bagB`"
   ]
  },
  {
   "cell_type": "code",
   "execution_count": 12,
   "id": "df8d7edf",
   "metadata": {},
   "outputs": [
    {
     "data": {
      "text/plain": [
       "array([21, 22, 25, 26, 29, 30, 31, 33, 34, 46])"
      ]
     },
     "execution_count": 12,
     "metadata": {},
     "output_type": "execute_result"
    }
   ],
   "source": [
    "np.union1d(bagA, bagB)"
   ]
  },
  {
   "cell_type": "code",
   "execution_count": 13,
   "id": "3406bb6f",
   "metadata": {},
   "outputs": [
    {
     "data": {
      "text/plain": [
       "array([31])"
      ]
     },
     "execution_count": 13,
     "metadata": {},
     "output_type": "execute_result"
    }
   ],
   "source": [
    "np.intersect1d(bagA, bagB)"
   ]
  },
  {
   "cell_type": "markdown",
   "id": "6706a9f6",
   "metadata": {},
   "source": [
    "## Q2"
   ]
  },
  {
   "cell_type": "code",
   "execution_count": 14,
   "id": "2ff9868c",
   "metadata": {},
   "outputs": [],
   "source": [
    "rate = [4.23,3.8,2.98,2.56,3,114,3.8,3.78,2.98,4.8,4.10,3.65]"
   ]
  },
  {
   "cell_type": "markdown",
   "id": "9b2be30e",
   "metadata": {},
   "source": [
    "#### A) Import the appropriate Python libraries to create a one-dimensional ndarray called `growth_rate` from the list `rate`. Create another one-dimensional array named `twos` having the same number of elements as `growth_rate`, all set to 2."
   ]
  },
  {
   "cell_type": "code",
   "execution_count": 15,
   "id": "248ba7c8",
   "metadata": {},
   "outputs": [
    {
     "data": {
      "text/plain": [
       "array([  4.23,   3.8 ,   2.98,   2.56,   3.  , 114.  ,   3.8 ,   3.78,\n",
       "         2.98,   4.8 ,   4.1 ,   3.65])"
      ]
     },
     "execution_count": 15,
     "metadata": {},
     "output_type": "execute_result"
    }
   ],
   "source": [
    "growth_rate = np.array(rate)\n",
    "growth_rate"
   ]
  },
  {
   "cell_type": "code",
   "execution_count": 16,
   "id": "37ec7b1e",
   "metadata": {},
   "outputs": [
    {
     "data": {
      "text/plain": [
       "array([2., 2., 2., 2., 2., 2., 2., 2., 2., 2., 2., 2.])"
      ]
     },
     "execution_count": 16,
     "metadata": {},
     "output_type": "execute_result"
    }
   ],
   "source": [
    "twos = np.full_like(growth_rate, 2)\n",
    "twos"
   ]
  },
  {
   "cell_type": "markdown",
   "id": "e5579dd0",
   "metadata": {},
   "source": [
    "#### B) Use Numpy library to find the index of the maximum and the minimum values in the array `growth_rate`."
   ]
  },
  {
   "cell_type": "code",
   "execution_count": 17,
   "id": "ce91a1c4",
   "metadata": {},
   "outputs": [
    {
     "data": {
      "text/plain": [
       "5"
      ]
     },
     "execution_count": 17,
     "metadata": {},
     "output_type": "execute_result"
    }
   ],
   "source": [
    "np.argmax(growth_rate)"
   ]
  },
  {
   "cell_type": "code",
   "execution_count": 18,
   "id": "819ec4e0",
   "metadata": {},
   "outputs": [
    {
     "data": {
      "text/plain": [
       "3"
      ]
     },
     "execution_count": 18,
     "metadata": {},
     "output_type": "execute_result"
    }
   ],
   "source": [
    "np.argmin(growth_rate)"
   ]
  },
  {
   "cell_type": "markdown",
   "id": "b96497d4",
   "metadata": {},
   "source": [
    "#### C) What does a box plot show? Give a command to display a boxplot for `growth_rate`."
   ]
  },
  {
   "cell_type": "markdown",
   "id": "5631894f",
   "metadata": {},
   "source": [
    "A box plot is helpful in visualizing the different quartiles, interquartile range and the outliers present in some data."
   ]
  },
  {
   "cell_type": "code",
   "execution_count": 21,
   "id": "23fc9777",
   "metadata": {},
   "outputs": [
    {
     "data": {
      "image/png": "[encoded data removed]",
      "text/plain": [
       "<Figure size 432x288 with 1 Axes>"
      ]
     },
     "metadata": {},
     "output_type": "display_data"
    }
   ],
   "source": [
    "sns.boxplot(data=growth_rate)\n",
    "plt.title('Growth Rate')\n",
    "plt.show()"
   ]
  },
  {
   "cell_type": "markdown",
   "id": "47c2a497",
   "metadata": {},
   "source": [
    "#### D) Concatenate the two arrays `growth_rate` and `twos`, and reshape the resulting array to have four rows and appropriate number of columns, call it `results`"
   ]
  },
  {
   "cell_type": "code",
   "execution_count": 22,
   "id": "ae9fdaa1",
   "metadata": {},
   "outputs": [
    {
     "data": {
      "text/plain": [
       "array([[  4.23,   3.8 ,   2.98,   2.56,   3.  , 114.  ],\n",
       "       [  3.8 ,   3.78,   2.98,   4.8 ,   4.1 ,   3.65],\n",
       "       [  2.  ,   2.  ,   2.  ,   2.  ,   2.  ,   2.  ],\n",
       "       [  2.  ,   2.  ,   2.  ,   2.  ,   2.  ,   2.  ]])"
      ]
     },
     "execution_count": 22,
     "metadata": {},
     "output_type": "execute_result"
    }
   ],
   "source": [
    "results = np.concatenate((growth_rate, twos))\n",
    "results = results.reshape(4, results.size // 4)\n",
    "results"
   ]
  },
  {
   "cell_type": "markdown",
   "id": "2433d70f",
   "metadata": {},
   "source": [
    "#### E) Find the mean, median, mode and std for each column in `results`"
   ]
  },
  {
   "cell_type": "code",
   "execution_count": 23,
   "id": "a4a2315f",
   "metadata": {},
   "outputs": [
    {
     "name": "stdout",
     "output_type": "stream",
     "text": [
      "Mean: [ 3.0075  2.895   2.49    2.84    2.775  30.4125]\n",
      "Median: [2.9   2.89  2.49  2.28  2.5   2.825]\n",
      "Std: [ 1.01890566  0.89502793  0.49        1.15446958  0.86710726 48.26396657]\n"
     ]
    }
   ],
   "source": [
    "print(\"Mean:\", results.mean(axis=0))\n",
    "print(\"Median:\", np.median(results, axis=0))\n",
    "print(\"Std:\", results.std(axis=0))"
   ]
  },
  {
   "cell_type": "markdown",
   "id": "f47731b3",
   "metadata": {},
   "source": [
    "#### F) Write a command to store the array `results` to a file called `result.npy` on the disk in the current working directory."
   ]
  },
  {
   "cell_type": "code",
   "execution_count": 24,
   "id": "8d6618b1",
   "metadata": {},
   "outputs": [],
   "source": [
    "np.save('./results.npy', results)"
   ]
  },
  {
   "cell_type": "markdown",
   "id": "65e3cd11",
   "metadata": {},
   "source": [
    "## Q3"
   ]
  },
  {
   "cell_type": "code",
   "execution_count": 25,
   "id": "1fdd7a54",
   "metadata": {},
   "outputs": [],
   "source": [
    "df = pd.read_csv('./Q3.csv', index_col='#')"
   ]
  },
  {
   "cell_type": "code",
   "execution_count": 26,
   "id": "4f60c85a",
   "metadata": {},
   "outputs": [
    {
     "data": {
      "text/html": [
       "<div>\n",
       "<style scoped>\n",
       "    .dataframe tbody tr th:only-of-type {\n",
       "        vertical-align: middle;\n",
       "    }\n",
       "\n",
       "    .dataframe tbody tr th {\n",
       "        vertical-align: top;\n",
       "    }\n",
       "\n",
       "    .dataframe thead th {\n",
       "        text-align: right;\n",
       "    }\n",
       "</style>\n",
       "<table border=\"1\" class=\"dataframe\">\n",
       "  <thead>\n",
       "    <tr style=\"text-align: right;\">\n",
       "      <th></th>\n",
       "      <th>Movie_title</th>\n",
       "      <th>Director_name</th>\n",
       "      <th>Language</th>\n",
       "      <th>Length</th>\n",
       "      <th>Budget</th>\n",
       "      <th>Gross_collections</th>\n",
       "      <th>User_rating</th>\n",
       "      <th>Critic_rating</th>\n",
       "    </tr>\n",
       "    <tr>\n",
       "      <th>#</th>\n",
       "      <th></th>\n",
       "      <th></th>\n",
       "      <th></th>\n",
       "      <th></th>\n",
       "      <th></th>\n",
       "      <th></th>\n",
       "      <th></th>\n",
       "      <th></th>\n",
       "    </tr>\n",
       "  </thead>\n",
       "  <tbody>\n",
       "    <tr>\n",
       "      <th>1</th>\n",
       "      <td>AAA</td>\n",
       "      <td>Ram</td>\n",
       "      <td>Urdu</td>\n",
       "      <td>120.0</td>\n",
       "      <td>90</td>\n",
       "      <td>80.0</td>\n",
       "      <td>4</td>\n",
       "      <td>7</td>\n",
       "    </tr>\n",
       "    <tr>\n",
       "      <th>2</th>\n",
       "      <td>BBB</td>\n",
       "      <td>Eash</td>\n",
       "      <td>Hindi</td>\n",
       "      <td>NaN</td>\n",
       "      <td>65</td>\n",
       "      <td>70.0</td>\n",
       "      <td>6</td>\n",
       "      <td>6</td>\n",
       "    </tr>\n",
       "    <tr>\n",
       "      <th>3</th>\n",
       "      <td>CCC</td>\n",
       "      <td>Anju</td>\n",
       "      <td>Hindi</td>\n",
       "      <td>125.0</td>\n",
       "      <td>100</td>\n",
       "      <td>150.0</td>\n",
       "      <td>9</td>\n",
       "      <td>8</td>\n",
       "    </tr>\n",
       "    <tr>\n",
       "      <th>4</th>\n",
       "      <td>DDD</td>\n",
       "      <td>Jay</td>\n",
       "      <td>Hindi</td>\n",
       "      <td>150.0</td>\n",
       "      <td>85</td>\n",
       "      <td>85.0</td>\n",
       "      <td>6</td>\n",
       "      <td>5</td>\n",
       "    </tr>\n",
       "    <tr>\n",
       "      <th>5</th>\n",
       "      <td>EEE</td>\n",
       "      <td>Eash</td>\n",
       "      <td>Hindi</td>\n",
       "      <td>90.0</td>\n",
       "      <td>60</td>\n",
       "      <td>NaN</td>\n",
       "      <td>7</td>\n",
       "      <td>5</td>\n",
       "    </tr>\n",
       "    <tr>\n",
       "      <th>6</th>\n",
       "      <td>FFF</td>\n",
       "      <td>Suraj</td>\n",
       "      <td>French</td>\n",
       "      <td>100.0</td>\n",
       "      <td>115</td>\n",
       "      <td>120.0</td>\n",
       "      <td>8</td>\n",
       "      <td>6</td>\n",
       "    </tr>\n",
       "    <tr>\n",
       "      <th>7</th>\n",
       "      <td>GGG</td>\n",
       "      <td>Anju</td>\n",
       "      <td>French</td>\n",
       "      <td>NaN</td>\n",
       "      <td>80</td>\n",
       "      <td>81.0</td>\n",
       "      <td>5</td>\n",
       "      <td>5</td>\n",
       "    </tr>\n",
       "    <tr>\n",
       "      <th>8</th>\n",
       "      <td>HHH</td>\n",
       "      <td>Ram</td>\n",
       "      <td>French</td>\n",
       "      <td>115.0</td>\n",
       "      <td>50</td>\n",
       "      <td>40.0</td>\n",
       "      <td>3</td>\n",
       "      <td>4</td>\n",
       "    </tr>\n",
       "    <tr>\n",
       "      <th>9</th>\n",
       "      <td>JJJ</td>\n",
       "      <td>Anju</td>\n",
       "      <td>French</td>\n",
       "      <td>120.0</td>\n",
       "      <td>92</td>\n",
       "      <td>75.0</td>\n",
       "      <td>3</td>\n",
       "      <td>6</td>\n",
       "    </tr>\n",
       "  </tbody>\n",
       "</table>\n",
       "</div>"
      ],
      "text/plain": [
       "  Movie_title Director_name Language  Length  Budget  Gross_collections  \\\n",
       "#                                                                         \n",
       "1         AAA           Ram     Urdu   120.0      90               80.0   \n",
       "2         BBB          Eash    Hindi     NaN      65               70.0   \n",
       "3         CCC          Anju    Hindi   125.0     100              150.0   \n",
       "4         DDD           Jay    Hindi   150.0      85               85.0   \n",
       "5         EEE          Eash    Hindi    90.0      60                NaN   \n",
       "6         FFF         Suraj   French   100.0     115              120.0   \n",
       "7         GGG          Anju   French     NaN      80               81.0   \n",
       "8         HHH           Ram   French   115.0      50               40.0   \n",
       "9         JJJ          Anju   French   120.0      92               75.0   \n",
       "\n",
       "   User_rating  Critic_rating  \n",
       "#                              \n",
       "1            4              7  \n",
       "2            6              6  \n",
       "3            9              8  \n",
       "4            6              5  \n",
       "5            7              5  \n",
       "6            8              6  \n",
       "7            5              5  \n",
       "8            3              4  \n",
       "9            3              6  "
      ]
     },
     "execution_count": 26,
     "metadata": {},
     "output_type": "execute_result"
    }
   ],
   "source": [
    "df"
   ]
  },
  {
   "cell_type": "markdown",
   "id": "8e6599b9",
   "metadata": {},
   "source": [
    "#### A) Display the number of rows and columns present in `df`"
   ]
  },
  {
   "cell_type": "code",
   "execution_count": 27,
   "id": "37b2c68e",
   "metadata": {},
   "outputs": [
    {
     "data": {
      "text/plain": [
       "(9, 8)"
      ]
     },
     "execution_count": 27,
     "metadata": {},
     "output_type": "execute_result"
    }
   ],
   "source": [
    "df.shape"
   ]
  },
  {
   "cell_type": "markdown",
   "id": "1302020b",
   "metadata": {},
   "source": [
    "#### B) Display the names of columns that have NULL values present in them, along with the count of NULL values. Replace the NULL values present in the column with the lowest value in that column"
   ]
  },
  {
   "cell_type": "code",
   "execution_count": 28,
   "id": "fcf6b51b",
   "metadata": {},
   "outputs": [
    {
     "data": {
      "text/plain": [
       "Length               2\n",
       "Gross_collections    1\n",
       "dtype: int64"
      ]
     },
     "execution_count": 28,
     "metadata": {},
     "output_type": "execute_result"
    }
   ],
   "source": [
    "df.isna().sum()[df.isna().sum() > 0]"
   ]
  },
  {
   "cell_type": "code",
   "execution_count": 29,
   "id": "fddd1665",
   "metadata": {},
   "outputs": [],
   "source": [
    "df = df.apply(lambda x: x.fillna(min(x)), axis=0)"
   ]
  },
  {
   "cell_type": "code",
   "execution_count": 30,
   "id": "474c4a97",
   "metadata": {},
   "outputs": [
    {
     "data": {
      "text/html": [
       "<div>\n",
       "<style scoped>\n",
       "    .dataframe tbody tr th:only-of-type {\n",
       "        vertical-align: middle;\n",
       "    }\n",
       "\n",
       "    .dataframe tbody tr th {\n",
       "        vertical-align: top;\n",
       "    }\n",
       "\n",
       "    .dataframe thead th {\n",
       "        text-align: right;\n",
       "    }\n",
       "</style>\n",
       "<table border=\"1\" class=\"dataframe\">\n",
       "  <thead>\n",
       "    <tr style=\"text-align: right;\">\n",
       "      <th></th>\n",
       "      <th>Movie_title</th>\n",
       "      <th>Director_name</th>\n",
       "      <th>Language</th>\n",
       "      <th>Length</th>\n",
       "      <th>Budget</th>\n",
       "      <th>Gross_collections</th>\n",
       "      <th>User_rating</th>\n",
       "      <th>Critic_rating</th>\n",
       "    </tr>\n",
       "    <tr>\n",
       "      <th>#</th>\n",
       "      <th></th>\n",
       "      <th></th>\n",
       "      <th></th>\n",
       "      <th></th>\n",
       "      <th></th>\n",
       "      <th></th>\n",
       "      <th></th>\n",
       "      <th></th>\n",
       "    </tr>\n",
       "  </thead>\n",
       "  <tbody>\n",
       "    <tr>\n",
       "      <th>1</th>\n",
       "      <td>AAA</td>\n",
       "      <td>Ram</td>\n",
       "      <td>Urdu</td>\n",
       "      <td>120.0</td>\n",
       "      <td>90</td>\n",
       "      <td>80.0</td>\n",
       "      <td>4</td>\n",
       "      <td>7</td>\n",
       "    </tr>\n",
       "    <tr>\n",
       "      <th>2</th>\n",
       "      <td>BBB</td>\n",
       "      <td>Eash</td>\n",
       "      <td>Hindi</td>\n",
       "      <td>90.0</td>\n",
       "      <td>65</td>\n",
       "      <td>70.0</td>\n",
       "      <td>6</td>\n",
       "      <td>6</td>\n",
       "    </tr>\n",
       "    <tr>\n",
       "      <th>3</th>\n",
       "      <td>CCC</td>\n",
       "      <td>Anju</td>\n",
       "      <td>Hindi</td>\n",
       "      <td>125.0</td>\n",
       "      <td>100</td>\n",
       "      <td>150.0</td>\n",
       "      <td>9</td>\n",
       "      <td>8</td>\n",
       "    </tr>\n",
       "    <tr>\n",
       "      <th>4</th>\n",
       "      <td>DDD</td>\n",
       "      <td>Jay</td>\n",
       "      <td>Hindi</td>\n",
       "      <td>150.0</td>\n",
       "      <td>85</td>\n",
       "      <td>85.0</td>\n",
       "      <td>6</td>\n",
       "      <td>5</td>\n",
       "    </tr>\n",
       "    <tr>\n",
       "      <th>5</th>\n",
       "      <td>EEE</td>\n",
       "      <td>Eash</td>\n",
       "      <td>Hindi</td>\n",
       "      <td>90.0</td>\n",
       "      <td>60</td>\n",
       "      <td>40.0</td>\n",
       "      <td>7</td>\n",
       "      <td>5</td>\n",
       "    </tr>\n",
       "    <tr>\n",
       "      <th>6</th>\n",
       "      <td>FFF</td>\n",
       "      <td>Suraj</td>\n",
       "      <td>French</td>\n",
       "      <td>100.0</td>\n",
       "      <td>115</td>\n",
       "      <td>120.0</td>\n",
       "      <td>8</td>\n",
       "      <td>6</td>\n",
       "    </tr>\n",
       "    <tr>\n",
       "      <th>7</th>\n",
       "      <td>GGG</td>\n",
       "      <td>Anju</td>\n",
       "      <td>French</td>\n",
       "      <td>90.0</td>\n",
       "      <td>80</td>\n",
       "      <td>81.0</td>\n",
       "      <td>5</td>\n",
       "      <td>5</td>\n",
       "    </tr>\n",
       "    <tr>\n",
       "      <th>8</th>\n",
       "      <td>HHH</td>\n",
       "      <td>Ram</td>\n",
       "      <td>French</td>\n",
       "      <td>115.0</td>\n",
       "      <td>50</td>\n",
       "      <td>40.0</td>\n",
       "      <td>3</td>\n",
       "      <td>4</td>\n",
       "    </tr>\n",
       "    <tr>\n",
       "      <th>9</th>\n",
       "      <td>JJJ</td>\n",
       "      <td>Anju</td>\n",
       "      <td>French</td>\n",
       "      <td>120.0</td>\n",
       "      <td>92</td>\n",
       "      <td>75.0</td>\n",
       "      <td>3</td>\n",
       "      <td>6</td>\n",
       "    </tr>\n",
       "  </tbody>\n",
       "</table>\n",
       "</div>"
      ],
      "text/plain": [
       "  Movie_title Director_name Language  Length  Budget  Gross_collections  \\\n",
       "#                                                                         \n",
       "1         AAA           Ram     Urdu   120.0      90               80.0   \n",
       "2         BBB          Eash    Hindi    90.0      65               70.0   \n",
       "3         CCC          Anju    Hindi   125.0     100              150.0   \n",
       "4         DDD           Jay    Hindi   150.0      85               85.0   \n",
       "5         EEE          Eash    Hindi    90.0      60               40.0   \n",
       "6         FFF         Suraj   French   100.0     115              120.0   \n",
       "7         GGG          Anju   French    90.0      80               81.0   \n",
       "8         HHH           Ram   French   115.0      50               40.0   \n",
       "9         JJJ          Anju   French   120.0      92               75.0   \n",
       "\n",
       "   User_rating  Critic_rating  \n",
       "#                              \n",
       "1            4              7  \n",
       "2            6              6  \n",
       "3            9              8  \n",
       "4            6              5  \n",
       "5            7              5  \n",
       "6            8              6  \n",
       "7            5              5  \n",
       "8            3              4  \n",
       "9            3              6  "
      ]
     },
     "execution_count": 30,
     "metadata": {},
     "output_type": "execute_result"
    }
   ],
   "source": [
    "df"
   ]
  },
  {
   "cell_type": "markdown",
   "id": "e0712107",
   "metadata": {},
   "source": [
    "#### C) Create a new column in df named `Rating`, which contains the mean of `User_rating` and `Critic_rating`. Create another column, `Profit`, which contains the difference of `Gross_collections` and `Budget`."
   ]
  },
  {
   "cell_type": "code",
   "execution_count": 31,
   "id": "bc0f9bec",
   "metadata": {},
   "outputs": [],
   "source": [
    "df['Rating'] = (df['User_rating'] + df['Critic_rating']) / 2"
   ]
  },
  {
   "cell_type": "code",
   "execution_count": 32,
   "id": "78530118",
   "metadata": {},
   "outputs": [],
   "source": [
    "df['Profit'] = df['Gross_collections'] - df['Budget']"
   ]
  },
  {
   "cell_type": "code",
   "execution_count": 33,
   "id": "e8117f93",
   "metadata": {},
   "outputs": [
    {
     "data": {
      "text/html": [
       "<div>\n",
       "<style scoped>\n",
       "    .dataframe tbody tr th:only-of-type {\n",
       "        vertical-align: middle;\n",
       "    }\n",
       "\n",
       "    .dataframe tbody tr th {\n",
       "        vertical-align: top;\n",
       "    }\n",
       "\n",
       "    .dataframe thead th {\n",
       "        text-align: right;\n",
       "    }\n",
       "</style>\n",
       "<table border=\"1\" class=\"dataframe\">\n",
       "  <thead>\n",
       "    <tr style=\"text-align: right;\">\n",
       "      <th></th>\n",
       "      <th>Movie_title</th>\n",
       "      <th>Director_name</th>\n",
       "      <th>Language</th>\n",
       "      <th>Length</th>\n",
       "      <th>Budget</th>\n",
       "      <th>Gross_collections</th>\n",
       "      <th>User_rating</th>\n",
       "      <th>Critic_rating</th>\n",
       "      <th>Rating</th>\n",
       "      <th>Profit</th>\n",
       "    </tr>\n",
       "    <tr>\n",
       "      <th>#</th>\n",
       "      <th></th>\n",
       "      <th></th>\n",
       "      <th></th>\n",
       "      <th></th>\n",
       "      <th></th>\n",
       "      <th></th>\n",
       "      <th></th>\n",
       "      <th></th>\n",
       "      <th></th>\n",
       "      <th></th>\n",
       "    </tr>\n",
       "  </thead>\n",
       "  <tbody>\n",
       "    <tr>\n",
       "      <th>1</th>\n",
       "      <td>AAA</td>\n",
       "      <td>Ram</td>\n",
       "      <td>Urdu</td>\n",
       "      <td>120.0</td>\n",
       "      <td>90</td>\n",
       "      <td>80.0</td>\n",
       "      <td>4</td>\n",
       "      <td>7</td>\n",
       "      <td>5.5</td>\n",
       "      <td>-10.0</td>\n",
       "    </tr>\n",
       "    <tr>\n",
       "      <th>2</th>\n",
       "      <td>BBB</td>\n",
       "      <td>Eash</td>\n",
       "      <td>Hindi</td>\n",
       "      <td>90.0</td>\n",
       "      <td>65</td>\n",
       "      <td>70.0</td>\n",
       "      <td>6</td>\n",
       "      <td>6</td>\n",
       "      <td>6.0</td>\n",
       "      <td>5.0</td>\n",
       "    </tr>\n",
       "    <tr>\n",
       "      <th>3</th>\n",
       "      <td>CCC</td>\n",
       "      <td>Anju</td>\n",
       "      <td>Hindi</td>\n",
       "      <td>125.0</td>\n",
       "      <td>100</td>\n",
       "      <td>150.0</td>\n",
       "      <td>9</td>\n",
       "      <td>8</td>\n",
       "      <td>8.5</td>\n",
       "      <td>50.0</td>\n",
       "    </tr>\n",
       "    <tr>\n",
       "      <th>4</th>\n",
       "      <td>DDD</td>\n",
       "      <td>Jay</td>\n",
       "      <td>Hindi</td>\n",
       "      <td>150.0</td>\n",
       "      <td>85</td>\n",
       "      <td>85.0</td>\n",
       "      <td>6</td>\n",
       "      <td>5</td>\n",
       "      <td>5.5</td>\n",
       "      <td>0.0</td>\n",
       "    </tr>\n",
       "    <tr>\n",
       "      <th>5</th>\n",
       "      <td>EEE</td>\n",
       "      <td>Eash</td>\n",
       "      <td>Hindi</td>\n",
       "      <td>90.0</td>\n",
       "      <td>60</td>\n",
       "      <td>40.0</td>\n",
       "      <td>7</td>\n",
       "      <td>5</td>\n",
       "      <td>6.0</td>\n",
       "      <td>-20.0</td>\n",
       "    </tr>\n",
       "    <tr>\n",
       "      <th>6</th>\n",
       "      <td>FFF</td>\n",
       "      <td>Suraj</td>\n",
       "      <td>French</td>\n",
       "      <td>100.0</td>\n",
       "      <td>115</td>\n",
       "      <td>120.0</td>\n",
       "      <td>8</td>\n",
       "      <td>6</td>\n",
       "      <td>7.0</td>\n",
       "      <td>5.0</td>\n",
       "    </tr>\n",
       "    <tr>\n",
       "      <th>7</th>\n",
       "      <td>GGG</td>\n",
       "      <td>Anju</td>\n",
       "      <td>French</td>\n",
       "      <td>90.0</td>\n",
       "      <td>80</td>\n",
       "      <td>81.0</td>\n",
       "      <td>5</td>\n",
       "      <td>5</td>\n",
       "      <td>5.0</td>\n",
       "      <td>1.0</td>\n",
       "    </tr>\n",
       "    <tr>\n",
       "      <th>8</th>\n",
       "      <td>HHH</td>\n",
       "      <td>Ram</td>\n",
       "      <td>French</td>\n",
       "      <td>115.0</td>\n",
       "      <td>50</td>\n",
       "      <td>40.0</td>\n",
       "      <td>3</td>\n",
       "      <td>4</td>\n",
       "      <td>3.5</td>\n",
       "      <td>-10.0</td>\n",
       "    </tr>\n",
       "    <tr>\n",
       "      <th>9</th>\n",
       "      <td>JJJ</td>\n",
       "      <td>Anju</td>\n",
       "      <td>French</td>\n",
       "      <td>120.0</td>\n",
       "      <td>92</td>\n",
       "      <td>75.0</td>\n",
       "      <td>3</td>\n",
       "      <td>6</td>\n",
       "      <td>4.5</td>\n",
       "      <td>-17.0</td>\n",
       "    </tr>\n",
       "  </tbody>\n",
       "</table>\n",
       "</div>"
      ],
      "text/plain": [
       "  Movie_title Director_name Language  Length  Budget  Gross_collections  \\\n",
       "#                                                                         \n",
       "1         AAA           Ram     Urdu   120.0      90               80.0   \n",
       "2         BBB          Eash    Hindi    90.0      65               70.0   \n",
       "3         CCC          Anju    Hindi   125.0     100              150.0   \n",
       "4         DDD           Jay    Hindi   150.0      85               85.0   \n",
       "5         EEE          Eash    Hindi    90.0      60               40.0   \n",
       "6         FFF         Suraj   French   100.0     115              120.0   \n",
       "7         GGG          Anju   French    90.0      80               81.0   \n",
       "8         HHH           Ram   French   115.0      50               40.0   \n",
       "9         JJJ          Anju   French   120.0      92               75.0   \n",
       "\n",
       "   User_rating  Critic_rating  Rating  Profit  \n",
       "#                                              \n",
       "1            4              7     5.5   -10.0  \n",
       "2            6              6     6.0     5.0  \n",
       "3            9              8     8.5    50.0  \n",
       "4            6              5     5.5     0.0  \n",
       "5            7              5     6.0   -20.0  \n",
       "6            8              6     7.0     5.0  \n",
       "7            5              5     5.0     1.0  \n",
       "8            3              4     3.5   -10.0  \n",
       "9            3              6     4.5   -17.0  "
      ]
     },
     "execution_count": 33,
     "metadata": {},
     "output_type": "execute_result"
    }
   ],
   "source": [
    "df"
   ]
  },
  {
   "cell_type": "markdown",
   "id": "4a1bfb40",
   "metadata": {},
   "source": [
    "#### D) Find the correlation between `Budget` and `Rating`. Based on the correlation values between two variables, what inference(s) can be drawn about the relationship between them?"
   ]
  },
  {
   "cell_type": "code",
   "execution_count": 34,
   "id": "70e4da65",
   "metadata": {},
   "outputs": [
    {
     "data": {
      "text/plain": [
       "0.5879443312563414"
      ]
     },
     "execution_count": 34,
     "metadata": {},
     "output_type": "execute_result"
    }
   ],
   "source": [
    "df['Budget'].corr(df['Rating'])"
   ]
  },
  {
   "cell_type": "markdown",
   "id": "165f2d35",
   "metadata": {},
   "source": [
    "The correlation is around 0.6, which indicates that there is some positive relationship between these two variables. Movies with higher budget tend to have better ratings."
   ]
  },
  {
   "cell_type": "markdown",
   "id": "6319257a",
   "metadata": {},
   "source": [
    "#### E) Group the movies according to the `Director_name`. Find the most profitable director.\n"
   ]
  },
  {
   "cell_type": "code",
   "execution_count": 35,
   "id": "c258c49b",
   "metadata": {},
   "outputs": [
    {
     "data": {
      "text/plain": [
       "'Anju'"
      ]
     },
     "execution_count": 35,
     "metadata": {},
     "output_type": "execute_result"
    }
   ],
   "source": [
    "df.groupby(['Director_name'])['Profit'].sum().idxmax()"
   ]
  },
  {
   "cell_type": "markdown",
   "id": "333f332e",
   "metadata": {},
   "source": [
    "#### F) What does a contingency table depict? Write commands to display the contingency table between `Director_name` and `Language`."
   ]
  },
  {
   "cell_type": "markdown",
   "id": "f56397cc",
   "metadata": {},
   "source": [
    "A contingency table is a type of table in a matrix format that displays the frequency distribution of the variables."
   ]
  },
  {
   "cell_type": "code",
   "execution_count": 36,
   "id": "17ed3e3a",
   "metadata": {},
   "outputs": [
    {
     "data": {
      "text/html": [
       "<div>\n",
       "<style scoped>\n",
       "    .dataframe tbody tr th:only-of-type {\n",
       "        vertical-align: middle;\n",
       "    }\n",
       "\n",
       "    .dataframe tbody tr th {\n",
       "        vertical-align: top;\n",
       "    }\n",
       "\n",
       "    .dataframe thead th {\n",
       "        text-align: right;\n",
       "    }\n",
       "</style>\n",
       "<table border=\"1\" class=\"dataframe\">\n",
       "  <thead>\n",
       "    <tr style=\"text-align: right;\">\n",
       "      <th>Language</th>\n",
       "      <th>French</th>\n",
       "      <th>Hindi</th>\n",
       "      <th>Urdu</th>\n",
       "    </tr>\n",
       "    <tr>\n",
       "      <th>Director_name</th>\n",
       "      <th></th>\n",
       "      <th></th>\n",
       "      <th></th>\n",
       "    </tr>\n",
       "  </thead>\n",
       "  <tbody>\n",
       "    <tr>\n",
       "      <th>Anju</th>\n",
       "      <td>2</td>\n",
       "      <td>1</td>\n",
       "      <td>0</td>\n",
       "    </tr>\n",
       "    <tr>\n",
       "      <th>Eash</th>\n",
       "      <td>0</td>\n",
       "      <td>2</td>\n",
       "      <td>0</td>\n",
       "    </tr>\n",
       "    <tr>\n",
       "      <th>Jay</th>\n",
       "      <td>0</td>\n",
       "      <td>1</td>\n",
       "      <td>0</td>\n",
       "    </tr>\n",
       "    <tr>\n",
       "      <th>Ram</th>\n",
       "      <td>1</td>\n",
       "      <td>0</td>\n",
       "      <td>1</td>\n",
       "    </tr>\n",
       "    <tr>\n",
       "      <th>Suraj</th>\n",
       "      <td>1</td>\n",
       "      <td>0</td>\n",
       "      <td>0</td>\n",
       "    </tr>\n",
       "  </tbody>\n",
       "</table>\n",
       "</div>"
      ],
      "text/plain": [
       "Language       French  Hindi  Urdu\n",
       "Director_name                     \n",
       "Anju                2      1     0\n",
       "Eash                0      2     0\n",
       "Jay                 0      1     0\n",
       "Ram                 1      0     1\n",
       "Suraj               1      0     0"
      ]
     },
     "execution_count": 36,
     "metadata": {},
     "output_type": "execute_result"
    }
   ],
   "source": [
    "pd.crosstab(df['Director_name'], df['Language'])"
   ]
  },
  {
   "cell_type": "markdown",
   "id": "2ac35c29",
   "metadata": {},
   "source": [
    "## Q4"
   ]
  },
  {
   "cell_type": "code",
   "execution_count": 37,
   "id": "2cab484a",
   "metadata": {},
   "outputs": [],
   "source": [
    "dict1 = { \n",
    "    \"Chhetri\": 80, \"Shabbir\": 23,\n",
    "    \"Gouramangi\": 6, \"Subrata\": 92,\n",
    "    \"Vijayan\": 29, \"Gawli\": np.nan, \n",
    "    \"Nabi\": 7, \"Renedy\": 4,\n",
    "    \"Lalpekhlua\": 23, \"Baichung\":41, \n",
    "    \"Surkumar\": 2\n",
    "}"
   ]
  },
  {
   "cell_type": "markdown",
   "id": "97eb14c7",
   "metadata": {},
   "source": [
    "#### A) Create a Pandas Series for the dictionary `dict1` where the key is name of the footballer and the value is the number of goals scored by him. The Series should have the names of the footballers as its index and values as goals scored."
   ]
  },
  {
   "cell_type": "code",
   "execution_count": 38,
   "id": "46a6c02d",
   "metadata": {},
   "outputs": [
    {
     "data": {
      "text/plain": [
       "Chhetri       80.0\n",
       "Shabbir       23.0\n",
       "Gouramangi     6.0\n",
       "Subrata       92.0\n",
       "Vijayan       29.0\n",
       "Gawli          NaN\n",
       "Nabi           7.0\n",
       "Renedy         4.0\n",
       "Lalpekhlua    23.0\n",
       "Baichung      41.0\n",
       "Surkumar       2.0\n",
       "dtype: float64"
      ]
     },
     "execution_count": 38,
     "metadata": {},
     "output_type": "execute_result"
    }
   ],
   "source": [
    "ser = pd.Series(dict1)\n",
    "ser"
   ]
  },
  {
   "cell_type": "markdown",
   "id": "b49e3d9f",
   "metadata": {},
   "source": [
    "#### B) Display the names of Footballers who have scored more than 20 goals."
   ]
  },
  {
   "cell_type": "code",
   "execution_count": 39,
   "id": "5873fd8a",
   "metadata": {},
   "outputs": [
    {
     "data": {
      "text/plain": [
       "Index(['Chhetri', 'Shabbir', 'Subrata', 'Vijayan', 'Lalpekhlua', 'Baichung'], dtype='object')"
      ]
     },
     "execution_count": 39,
     "metadata": {},
     "output_type": "execute_result"
    }
   ],
   "source": [
    "ser.index[ser > 20]"
   ]
  },
  {
   "cell_type": "markdown",
   "id": "fdc87e26",
   "metadata": {},
   "source": [
    "#### C) Due to the good performance of top six footballers, their rankings have increased and the number of goals scored by them need to be increased by 25. Round the resulting value to the nearest integer equal to or more than the computed number of goals. Update the Series to reflect these changes."
   ]
  },
  {
   "cell_type": "code",
   "execution_count": 40,
   "id": "be6a8074",
   "metadata": {},
   "outputs": [],
   "source": [
    "ser = pd.concat((ser.sort_values(ascending=False)[:6] + 25, ser.sort_values(ascending=False)[6:]))"
   ]
  },
  {
   "cell_type": "code",
   "execution_count": 41,
   "id": "616b7667",
   "metadata": {},
   "outputs": [
    {
     "data": {
      "text/plain": [
       "Subrata       117.0\n",
       "Chhetri       105.0\n",
       "Baichung       66.0\n",
       "Vijayan        54.0\n",
       "Shabbir        48.0\n",
       "Lalpekhlua     48.0\n",
       "Nabi            7.0\n",
       "Gouramangi      6.0\n",
       "Renedy          4.0\n",
       "Surkumar        2.0\n",
       "Gawli           NaN\n",
       "dtype: float64"
      ]
     },
     "execution_count": 41,
     "metadata": {},
     "output_type": "execute_result"
    }
   ],
   "source": [
    "ser"
   ]
  },
  {
   "cell_type": "markdown",
   "id": "e0125d62",
   "metadata": {},
   "source": [
    "#### D) Include a 12th man named 'Mondal' in the above Series whose number of goals scored is not known.\n"
   ]
  },
  {
   "cell_type": "code",
   "execution_count": 42,
   "id": "a29f2b16",
   "metadata": {},
   "outputs": [],
   "source": [
    "ser['Mondal'] = np.nan"
   ]
  },
  {
   "cell_type": "code",
   "execution_count": 43,
   "id": "09b4efc7",
   "metadata": {},
   "outputs": [
    {
     "data": {
      "text/plain": [
       "Subrata       117.0\n",
       "Chhetri       105.0\n",
       "Baichung       66.0\n",
       "Vijayan        54.0\n",
       "Shabbir        48.0\n",
       "Lalpekhlua     48.0\n",
       "Nabi            7.0\n",
       "Gouramangi      6.0\n",
       "Renedy          4.0\n",
       "Surkumar        2.0\n",
       "Gawli           NaN\n",
       "Mondal          NaN\n",
       "dtype: float64"
      ]
     },
     "execution_count": 43,
     "metadata": {},
     "output_type": "execute_result"
    }
   ],
   "source": [
    "ser"
   ]
  },
  {
   "cell_type": "markdown",
   "id": "e5d465c3",
   "metadata": {},
   "source": [
    "#### E) Display the list of Footballers whose number of goals scored is NOT NULL."
   ]
  },
  {
   "cell_type": "code",
   "execution_count": 44,
   "id": "effa969d",
   "metadata": {},
   "outputs": [
    {
     "data": {
      "text/plain": [
       "Subrata       117.0\n",
       "Chhetri       105.0\n",
       "Baichung       66.0\n",
       "Vijayan        54.0\n",
       "Shabbir        48.0\n",
       "Lalpekhlua     48.0\n",
       "Nabi            7.0\n",
       "Gouramangi      6.0\n",
       "Renedy          4.0\n",
       "Surkumar        2.0\n",
       "dtype: float64"
      ]
     },
     "execution_count": 44,
     "metadata": {},
     "output_type": "execute_result"
    }
   ],
   "source": [
    "ser[ser.notnull()]"
   ]
  },
  {
   "cell_type": "markdown",
   "id": "4923352f",
   "metadata": {},
   "source": [
    "#### F) Due to injury, 'Shabbir' was replaced by 'Sandhu' who number of goals scored is 5. Reflect this change in the Series and display the new Series."
   ]
  },
  {
   "cell_type": "code",
   "execution_count": 45,
   "id": "44d3fde0",
   "metadata": {},
   "outputs": [
    {
     "data": {
      "text/plain": [
       "Subrata       117.0\n",
       "Chhetri       105.0\n",
       "Baichung       66.0\n",
       "Vijayan        54.0\n",
       "Lalpekhlua     48.0\n",
       "Nabi            7.0\n",
       "Gouramangi      6.0\n",
       "Renedy          4.0\n",
       "Surkumar        2.0\n",
       "Gawli           NaN\n",
       "Mondal          NaN\n",
       "Sandhu          5.0\n",
       "dtype: float64"
      ]
     },
     "execution_count": 45,
     "metadata": {},
     "output_type": "execute_result"
    }
   ],
   "source": [
    "del ser['Shabbir']\n",
    "ser['Sandhu'] = 5\n",
    "ser"
   ]
  },
  {
   "cell_type": "markdown",
   "id": "242581ab",
   "metadata": {},
   "source": [
    "## Q5"
   ]
  },
  {
   "cell_type": "markdown",
   "id": "53fad489",
   "metadata": {},
   "source": [
    "#### A) Import the appropriate Python libraries to load the dataset. Create a Pandas DataFrame named `iris` having all the columns in the dataset. "
   ]
  },
  {
   "cell_type": "code",
   "execution_count": 1,
   "id": "9be396ea",
   "metadata": {},
   "outputs": [],
   "source": [
    "from sklearn.datasets import load_iris\n",
    "iris_data = load_iris()"
   ]
  },
  {
   "cell_type": "code",
   "execution_count": 3,
   "id": "9813971d",
   "metadata": {},
   "outputs": [
    {
     "data": {
      "text/plain": [
       "dict_keys(['data', 'target', 'frame', 'target_names', 'DESCR', 'feature_names', 'filename', 'data_module'])"
      ]
     },
     "execution_count": 3,
     "metadata": {},
     "output_type": "execute_result"
    }
   ],
   "source": [
    "iris_data.keys()"
   ]
  },
  {
   "cell_type": "code",
   "execution_count": 8,
   "id": "0b1aeb64",
   "metadata": {},
   "outputs": [
    {
     "data": {
      "text/html": [
       "<div>\n",
       "<style scoped>\n",
       "    .dataframe tbody tr th:only-of-type {\n",
       "        vertical-align: middle;\n",
       "    }\n",
       "\n",
       "    .dataframe tbody tr th {\n",
       "        vertical-align: top;\n",
       "    }\n",
       "\n",
       "    .dataframe thead th {\n",
       "        text-align: right;\n",
       "    }\n",
       "</style>\n",
       "<table border=\"1\" class=\"dataframe\">\n",
       "  <thead>\n",
       "    <tr style=\"text-align: right;\">\n",
       "      <th></th>\n",
       "      <th>sepal length (cm)</th>\n",
       "      <th>sepal width (cm)</th>\n",
       "      <th>petal length (cm)</th>\n",
       "      <th>petal width (cm)</th>\n",
       "      <th>species</th>\n",
       "    </tr>\n",
       "  </thead>\n",
       "  <tbody>\n",
       "    <tr>\n",
       "      <th>0</th>\n",
       "      <td>5.1</td>\n",
       "      <td>3.5</td>\n",
       "      <td>1.4</td>\n",
       "      <td>0.2</td>\n",
       "      <td>0</td>\n",
       "    </tr>\n",
       "    <tr>\n",
       "      <th>1</th>\n",
       "      <td>4.9</td>\n",
       "      <td>3.0</td>\n",
       "      <td>1.4</td>\n",
       "      <td>0.2</td>\n",
       "      <td>0</td>\n",
       "    </tr>\n",
       "    <tr>\n",
       "      <th>2</th>\n",
       "      <td>4.7</td>\n",
       "      <td>3.2</td>\n",
       "      <td>1.3</td>\n",
       "      <td>0.2</td>\n",
       "      <td>0</td>\n",
       "    </tr>\n",
       "    <tr>\n",
       "      <th>3</th>\n",
       "      <td>4.6</td>\n",
       "      <td>3.1</td>\n",
       "      <td>1.5</td>\n",
       "      <td>0.2</td>\n",
       "      <td>0</td>\n",
       "    </tr>\n",
       "    <tr>\n",
       "      <th>4</th>\n",
       "      <td>5.0</td>\n",
       "      <td>3.6</td>\n",
       "      <td>1.4</td>\n",
       "      <td>0.2</td>\n",
       "      <td>0</td>\n",
       "    </tr>\n",
       "    <tr>\n",
       "      <th>...</th>\n",
       "      <td>...</td>\n",
       "      <td>...</td>\n",
       "      <td>...</td>\n",
       "      <td>...</td>\n",
       "      <td>...</td>\n",
       "    </tr>\n",
       "    <tr>\n",
       "      <th>145</th>\n",
       "      <td>6.7</td>\n",
       "      <td>3.0</td>\n",
       "      <td>5.2</td>\n",
       "      <td>2.3</td>\n",
       "      <td>2</td>\n",
       "    </tr>\n",
       "    <tr>\n",
       "      <th>146</th>\n",
       "      <td>6.3</td>\n",
       "      <td>2.5</td>\n",
       "      <td>5.0</td>\n",
       "      <td>1.9</td>\n",
       "      <td>2</td>\n",
       "    </tr>\n",
       "    <tr>\n",
       "      <th>147</th>\n",
       "      <td>6.5</td>\n",
       "      <td>3.0</td>\n",
       "      <td>5.2</td>\n",
       "      <td>2.0</td>\n",
       "      <td>2</td>\n",
       "    </tr>\n",
       "    <tr>\n",
       "      <th>148</th>\n",
       "      <td>6.2</td>\n",
       "      <td>3.4</td>\n",
       "      <td>5.4</td>\n",
       "      <td>2.3</td>\n",
       "      <td>2</td>\n",
       "    </tr>\n",
       "    <tr>\n",
       "      <th>149</th>\n",
       "      <td>5.9</td>\n",
       "      <td>3.0</td>\n",
       "      <td>5.1</td>\n",
       "      <td>1.8</td>\n",
       "      <td>2</td>\n",
       "    </tr>\n",
       "  </tbody>\n",
       "</table>\n",
       "<p>150 rows × 5 columns</p>\n",
       "</div>"
      ],
      "text/plain": [
       "     sepal length (cm)  sepal width (cm)  petal length (cm)  petal width (cm)  \\\n",
       "0                  5.1               3.5                1.4               0.2   \n",
       "1                  4.9               3.0                1.4               0.2   \n",
       "2                  4.7               3.2                1.3               0.2   \n",
       "3                  4.6               3.1                1.5               0.2   \n",
       "4                  5.0               3.6                1.4               0.2   \n",
       "..                 ...               ...                ...               ...   \n",
       "145                6.7               3.0                5.2               2.3   \n",
       "146                6.3               2.5                5.0               1.9   \n",
       "147                6.5               3.0                5.2               2.0   \n",
       "148                6.2               3.4                5.4               2.3   \n",
       "149                5.9               3.0                5.1               1.8   \n",
       "\n",
       "     species  \n",
       "0          0  \n",
       "1          0  \n",
       "2          0  \n",
       "3          0  \n",
       "4          0  \n",
       "..       ...  \n",
       "145        2  \n",
       "146        2  \n",
       "147        2  \n",
       "148        2  \n",
       "149        2  \n",
       "\n",
       "[150 rows x 5 columns]"
      ]
     },
     "execution_count": 8,
     "metadata": {},
     "output_type": "execute_result"
    }
   ],
   "source": [
    "iris = pd.DataFrame(iris_data.data, columns = iris_data.feature_names)\n",
    "iris['species'] = iris_data.target\n",
    "iris"
   ]
  },
  {
   "cell_type": "code",
   "execution_count": 9,
   "id": "a11fd578",
   "metadata": {},
   "outputs": [
    {
     "data": {
      "text/html": [
       "<div>\n",
       "<style scoped>\n",
       "    .dataframe tbody tr th:only-of-type {\n",
       "        vertical-align: middle;\n",
       "    }\n",
       "\n",
       "    .dataframe tbody tr th {\n",
       "        vertical-align: top;\n",
       "    }\n",
       "\n",
       "    .dataframe thead th {\n",
       "        text-align: right;\n",
       "    }\n",
       "</style>\n",
       "<table border=\"1\" class=\"dataframe\">\n",
       "  <thead>\n",
       "    <tr style=\"text-align: right;\">\n",
       "      <th></th>\n",
       "      <th>sepal length (cm)</th>\n",
       "      <th>sepal width (cm)</th>\n",
       "      <th>petal length (cm)</th>\n",
       "      <th>petal width (cm)</th>\n",
       "      <th>species</th>\n",
       "    </tr>\n",
       "  </thead>\n",
       "  <tbody>\n",
       "    <tr>\n",
       "      <th>0</th>\n",
       "      <td>5.1</td>\n",
       "      <td>3.5</td>\n",
       "      <td>1.4</td>\n",
       "      <td>0.2</td>\n",
       "      <td>setosa</td>\n",
       "    </tr>\n",
       "    <tr>\n",
       "      <th>1</th>\n",
       "      <td>4.9</td>\n",
       "      <td>3.0</td>\n",
       "      <td>1.4</td>\n",
       "      <td>0.2</td>\n",
       "      <td>setosa</td>\n",
       "    </tr>\n",
       "    <tr>\n",
       "      <th>2</th>\n",
       "      <td>4.7</td>\n",
       "      <td>3.2</td>\n",
       "      <td>1.3</td>\n",
       "      <td>0.2</td>\n",
       "      <td>setosa</td>\n",
       "    </tr>\n",
       "    <tr>\n",
       "      <th>3</th>\n",
       "      <td>4.6</td>\n",
       "      <td>3.1</td>\n",
       "      <td>1.5</td>\n",
       "      <td>0.2</td>\n",
       "      <td>setosa</td>\n",
       "    </tr>\n",
       "    <tr>\n",
       "      <th>4</th>\n",
       "      <td>5.0</td>\n",
       "      <td>3.6</td>\n",
       "      <td>1.4</td>\n",
       "      <td>0.2</td>\n",
       "      <td>setosa</td>\n",
       "    </tr>\n",
       "    <tr>\n",
       "      <th>...</th>\n",
       "      <td>...</td>\n",
       "      <td>...</td>\n",
       "      <td>...</td>\n",
       "      <td>...</td>\n",
       "      <td>...</td>\n",
       "    </tr>\n",
       "    <tr>\n",
       "      <th>145</th>\n",
       "      <td>6.7</td>\n",
       "      <td>3.0</td>\n",
       "      <td>5.2</td>\n",
       "      <td>2.3</td>\n",
       "      <td>virginica</td>\n",
       "    </tr>\n",
       "    <tr>\n",
       "      <th>146</th>\n",
       "      <td>6.3</td>\n",
       "      <td>2.5</td>\n",
       "      <td>5.0</td>\n",
       "      <td>1.9</td>\n",
       "      <td>virginica</td>\n",
       "    </tr>\n",
       "    <tr>\n",
       "      <th>147</th>\n",
       "      <td>6.5</td>\n",
       "      <td>3.0</td>\n",
       "      <td>5.2</td>\n",
       "      <td>2.0</td>\n",
       "      <td>virginica</td>\n",
       "    </tr>\n",
       "    <tr>\n",
       "      <th>148</th>\n",
       "      <td>6.2</td>\n",
       "      <td>3.4</td>\n",
       "      <td>5.4</td>\n",
       "      <td>2.3</td>\n",
       "      <td>virginica</td>\n",
       "    </tr>\n",
       "    <tr>\n",
       "      <th>149</th>\n",
       "      <td>5.9</td>\n",
       "      <td>3.0</td>\n",
       "      <td>5.1</td>\n",
       "      <td>1.8</td>\n",
       "      <td>virginica</td>\n",
       "    </tr>\n",
       "  </tbody>\n",
       "</table>\n",
       "<p>150 rows × 5 columns</p>\n",
       "</div>"
      ],
      "text/plain": [
       "     sepal length (cm)  sepal width (cm)  petal length (cm)  petal width (cm)  \\\n",
       "0                  5.1               3.5                1.4               0.2   \n",
       "1                  4.9               3.0                1.4               0.2   \n",
       "2                  4.7               3.2                1.3               0.2   \n",
       "3                  4.6               3.1                1.5               0.2   \n",
       "4                  5.0               3.6                1.4               0.2   \n",
       "..                 ...               ...                ...               ...   \n",
       "145                6.7               3.0                5.2               2.3   \n",
       "146                6.3               2.5                5.0               1.9   \n",
       "147                6.5               3.0                5.2               2.0   \n",
       "148                6.2               3.4                5.4               2.3   \n",
       "149                5.9               3.0                5.1               1.8   \n",
       "\n",
       "       species  \n",
       "0       setosa  \n",
       "1       setosa  \n",
       "2       setosa  \n",
       "3       setosa  \n",
       "4       setosa  \n",
       "..         ...  \n",
       "145  virginica  \n",
       "146  virginica  \n",
       "147  virginica  \n",
       "148  virginica  \n",
       "149  virginica  \n",
       "\n",
       "[150 rows x 5 columns]"
      ]
     },
     "execution_count": 9,
     "metadata": {},
     "output_type": "execute_result"
    }
   ],
   "source": [
    "iris['species'] = iris_data.target_names[iris['species']]\n",
    "iris"
   ]
  },
  {
   "cell_type": "markdown",
   "id": "970bd893",
   "metadata": {},
   "source": [
    "#### B) Use an appropriate command to display a summary of the vital statistics of all numerical and categorical attributes in `iris`.\n"
   ]
  },
  {
   "cell_type": "code",
   "execution_count": 10,
   "id": "07159c4a",
   "metadata": {},
   "outputs": [
    {
     "data": {
      "text/html": [
       "<div>\n",
       "<style scoped>\n",
       "    .dataframe tbody tr th:only-of-type {\n",
       "        vertical-align: middle;\n",
       "    }\n",
       "\n",
       "    .dataframe tbody tr th {\n",
       "        vertical-align: top;\n",
       "    }\n",
       "\n",
       "    .dataframe thead th {\n",
       "        text-align: right;\n",
       "    }\n",
       "</style>\n",
       "<table border=\"1\" class=\"dataframe\">\n",
       "  <thead>\n",
       "    <tr style=\"text-align: right;\">\n",
       "      <th></th>\n",
       "      <th>sepal length (cm)</th>\n",
       "      <th>sepal width (cm)</th>\n",
       "      <th>petal length (cm)</th>\n",
       "      <th>petal width (cm)</th>\n",
       "    </tr>\n",
       "  </thead>\n",
       "  <tbody>\n",
       "    <tr>\n",
       "      <th>count</th>\n",
       "      <td>150.000000</td>\n",
       "      <td>150.000000</td>\n",
       "      <td>150.000000</td>\n",
       "      <td>150.000000</td>\n",
       "    </tr>\n",
       "    <tr>\n",
       "      <th>mean</th>\n",
       "      <td>5.843333</td>\n",
       "      <td>3.057333</td>\n",
       "      <td>3.758000</td>\n",
       "      <td>1.199333</td>\n",
       "    </tr>\n",
       "    <tr>\n",
       "      <th>std</th>\n",
       "      <td>0.828066</td>\n",
       "      <td>0.435866</td>\n",
       "      <td>1.765298</td>\n",
       "      <td>0.762238</td>\n",
       "    </tr>\n",
       "    <tr>\n",
       "      <th>min</th>\n",
       "      <td>4.300000</td>\n",
       "      <td>2.000000</td>\n",
       "      <td>1.000000</td>\n",
       "      <td>0.100000</td>\n",
       "    </tr>\n",
       "    <tr>\n",
       "      <th>25%</th>\n",
       "      <td>5.100000</td>\n",
       "      <td>2.800000</td>\n",
       "      <td>1.600000</td>\n",
       "      <td>0.300000</td>\n",
       "    </tr>\n",
       "    <tr>\n",
       "      <th>50%</th>\n",
       "      <td>5.800000</td>\n",
       "      <td>3.000000</td>\n",
       "      <td>4.350000</td>\n",
       "      <td>1.300000</td>\n",
       "    </tr>\n",
       "    <tr>\n",
       "      <th>75%</th>\n",
       "      <td>6.400000</td>\n",
       "      <td>3.300000</td>\n",
       "      <td>5.100000</td>\n",
       "      <td>1.800000</td>\n",
       "    </tr>\n",
       "    <tr>\n",
       "      <th>max</th>\n",
       "      <td>7.900000</td>\n",
       "      <td>4.400000</td>\n",
       "      <td>6.900000</td>\n",
       "      <td>2.500000</td>\n",
       "    </tr>\n",
       "  </tbody>\n",
       "</table>\n",
       "</div>"
      ],
      "text/plain": [
       "       sepal length (cm)  sepal width (cm)  petal length (cm)  \\\n",
       "count         150.000000        150.000000         150.000000   \n",
       "mean            5.843333          3.057333           3.758000   \n",
       "std             0.828066          0.435866           1.765298   \n",
       "min             4.300000          2.000000           1.000000   \n",
       "25%             5.100000          2.800000           1.600000   \n",
       "50%             5.800000          3.000000           4.350000   \n",
       "75%             6.400000          3.300000           5.100000   \n",
       "max             7.900000          4.400000           6.900000   \n",
       "\n",
       "       petal width (cm)  \n",
       "count        150.000000  \n",
       "mean           1.199333  \n",
       "std            0.762238  \n",
       "min            0.100000  \n",
       "25%            0.300000  \n",
       "50%            1.300000  \n",
       "75%            1.800000  \n",
       "max            2.500000  "
      ]
     },
     "execution_count": 10,
     "metadata": {},
     "output_type": "execute_result"
    }
   ],
   "source": [
    "iris.describe()"
   ]
  },
  {
   "cell_type": "markdown",
   "id": "caea4c10",
   "metadata": {},
   "source": [
    "#### C) What is the role of pre-processing in data analysis? Discuss how will you choose between (a) deleting the rows containing missing values or (b) replacing the missing values in a column with the mean or (c) replacing them with the mode of the column."
   ]
  },
  {
   "cell_type": "markdown",
   "id": "abc7e5c9",
   "metadata": {},
   "source": [
    "Real world data is not as pretty and easy to work with as one might expect. Preprocessing of data is absolutely necessary to not only get a fruitful conclusion from the analysis but sometimes just to make the analysis possible. The real world data suffers from things like missing values and outliers which have a large impact on the analysis. It also needs to be converted into a proper form so that the computer can understand it."
   ]
  },
  {
   "cell_type": "markdown",
   "id": "1af30702",
   "metadata": {},
   "source": [
    "a) This option is suitable when the number of rows with missing values is relatively small when compared to total rows.\n",
    "\n",
    "b) This option is suitable when the data with missing values is normally distributed.\n",
    "\n",
    "c) This option is suitable when the data with missing values represents some categories. Null values are simply replaced by the most common category."
   ]
  },
  {
   "cell_type": "markdown",
   "id": "40b83aa4",
   "metadata": {},
   "source": [
    "#### D) Give a Pandas command to convert the categorical attribute,` species` into dummy variables. Display all the columns of the DataFrame including the dummy variables. Give a command to drop the column `species` from the DataFrame."
   ]
  },
  {
   "cell_type": "code",
   "execution_count": 51,
   "id": "46b0c6ca",
   "metadata": {},
   "outputs": [
    {
     "data": {
      "text/html": [
       "<div>\n",
       "<style scoped>\n",
       "    .dataframe tbody tr th:only-of-type {\n",
       "        vertical-align: middle;\n",
       "    }\n",
       "\n",
       "    .dataframe tbody tr th {\n",
       "        vertical-align: top;\n",
       "    }\n",
       "\n",
       "    .dataframe thead th {\n",
       "        text-align: right;\n",
       "    }\n",
       "</style>\n",
       "<table border=\"1\" class=\"dataframe\">\n",
       "  <thead>\n",
       "    <tr style=\"text-align: right;\">\n",
       "      <th></th>\n",
       "      <th>sepal length (cm)</th>\n",
       "      <th>sepal width (cm)</th>\n",
       "      <th>petal length (cm)</th>\n",
       "      <th>petal width (cm)</th>\n",
       "    </tr>\n",
       "  </thead>\n",
       "  <tbody>\n",
       "    <tr>\n",
       "      <th>0</th>\n",
       "      <td>5.1</td>\n",
       "      <td>3.5</td>\n",
       "      <td>1.4</td>\n",
       "      <td>0.2</td>\n",
       "    </tr>\n",
       "    <tr>\n",
       "      <th>1</th>\n",
       "      <td>4.9</td>\n",
       "      <td>3.0</td>\n",
       "      <td>1.4</td>\n",
       "      <td>0.2</td>\n",
       "    </tr>\n",
       "    <tr>\n",
       "      <th>2</th>\n",
       "      <td>4.7</td>\n",
       "      <td>3.2</td>\n",
       "      <td>1.3</td>\n",
       "      <td>0.2</td>\n",
       "    </tr>\n",
       "    <tr>\n",
       "      <th>3</th>\n",
       "      <td>4.6</td>\n",
       "      <td>3.1</td>\n",
       "      <td>1.5</td>\n",
       "      <td>0.2</td>\n",
       "    </tr>\n",
       "    <tr>\n",
       "      <th>4</th>\n",
       "      <td>5.0</td>\n",
       "      <td>3.6</td>\n",
       "      <td>1.4</td>\n",
       "      <td>0.2</td>\n",
       "    </tr>\n",
       "    <tr>\n",
       "      <th>...</th>\n",
       "      <td>...</td>\n",
       "      <td>...</td>\n",
       "      <td>...</td>\n",
       "      <td>...</td>\n",
       "    </tr>\n",
       "    <tr>\n",
       "      <th>145</th>\n",
       "      <td>6.7</td>\n",
       "      <td>3.0</td>\n",
       "      <td>5.2</td>\n",
       "      <td>2.3</td>\n",
       "    </tr>\n",
       "    <tr>\n",
       "      <th>146</th>\n",
       "      <td>6.3</td>\n",
       "      <td>2.5</td>\n",
       "      <td>5.0</td>\n",
       "      <td>1.9</td>\n",
       "    </tr>\n",
       "    <tr>\n",
       "      <th>147</th>\n",
       "      <td>6.5</td>\n",
       "      <td>3.0</td>\n",
       "      <td>5.2</td>\n",
       "      <td>2.0</td>\n",
       "    </tr>\n",
       "    <tr>\n",
       "      <th>148</th>\n",
       "      <td>6.2</td>\n",
       "      <td>3.4</td>\n",
       "      <td>5.4</td>\n",
       "      <td>2.3</td>\n",
       "    </tr>\n",
       "    <tr>\n",
       "      <th>149</th>\n",
       "      <td>5.9</td>\n",
       "      <td>3.0</td>\n",
       "      <td>5.1</td>\n",
       "      <td>1.8</td>\n",
       "    </tr>\n",
       "  </tbody>\n",
       "</table>\n",
       "<p>150 rows × 4 columns</p>\n",
       "</div>"
      ],
      "text/plain": [
       "     sepal length (cm)  sepal width (cm)  petal length (cm)  petal width (cm)\n",
       "0                  5.1               3.5                1.4               0.2\n",
       "1                  4.9               3.0                1.4               0.2\n",
       "2                  4.7               3.2                1.3               0.2\n",
       "3                  4.6               3.1                1.5               0.2\n",
       "4                  5.0               3.6                1.4               0.2\n",
       "..                 ...               ...                ...               ...\n",
       "145                6.7               3.0                5.2               2.3\n",
       "146                6.3               2.5                5.0               1.9\n",
       "147                6.5               3.0                5.2               2.0\n",
       "148                6.2               3.4                5.4               2.3\n",
       "149                5.9               3.0                5.1               1.8\n",
       "\n",
       "[150 rows x 4 columns]"
      ]
     },
     "execution_count": 51,
     "metadata": {},
     "output_type": "execute_result"
    }
   ],
   "source": [
    "iris.drop(['species'], axis=1)"
   ]
  },
  {
   "cell_type": "markdown",
   "id": "e86bd85f",
   "metadata": {},
   "source": [
    "#### E) Draw a scatterplot between the columns sepal length and petal length for the species setosa in iris. "
   ]
  },
  {
   "cell_type": "code",
   "execution_count": 11,
   "id": "ee4af3ed",
   "metadata": {},
   "outputs": [
    {
     "data": {
      "image/png": "[encoded data removed]",
      "text/plain": [
       "<Figure size 432x288 with 1 Axes>"
      ]
     },
     "metadata": {},
     "output_type": "display_data"
    }
   ],
   "source": [
    "setosa = iris.query('species == \"setosa\"')\n",
    "\n",
    "plt.scatter(setosa['sepal length (cm)'], setosa['petal length (cm)'])\n",
    "plt.title('Sepal Length vs. Petal Length')\n",
    "plt.xlabel('Sepal Length (cm)')\n",
    "plt.ylabel('Petal Length (cm)')\n",
    "plt.show()"
   ]
  },
  {
   "cell_type": "markdown",
   "id": "ee013c8c",
   "metadata": {},
   "source": [
    "#### F) Create 5 equal length bins for each of the two columns sepal length and sepal width. Draw two histograms, one each for the values of sepal length and sepal width in these bins in a single figure. Save this image on the disk."
   ]
  },
  {
   "cell_type": "code",
   "execution_count": 12,
   "id": "1c1fae90",
   "metadata": {},
   "outputs": [
    {
     "data": {
      "image/png": "[encoded data removed]",
      "text/plain": [
       "<Figure size 432x288 with 2 Axes>"
      ]
     },
     "metadata": {},
     "output_type": "display_data"
    }
   ],
   "source": [
    "fig, (ax1, ax2) = plt.subplots(1, 2)\n",
    "\n",
    "seplen_bins = ax1.hist(iris['sepal length (cm)'], bins=5)\n",
    "sepwid_bins = ax2.hist(iris['sepal width (cm)'], bins=5)\n",
    "\n",
    "fig.suptitle('Sepal Width and Sepal Length (cm)')\n",
    "plt.show()"
   ]
  },
  {
   "cell_type": "code",
   "execution_count": 54,
   "id": "ca065b97",
   "metadata": {},
   "outputs": [
    {
     "name": "stdout",
     "output_type": "stream",
     "text": [
      "(array([32., 41., 42., 24., 11.]), array([4.3 , 5.02, 5.74, 6.46, 7.18, 7.9 ]), <BarContainer object of 5 artists>)\n",
      "(array([11., 46., 68., 21.,  4.]), array([2.  , 2.48, 2.96, 3.44, 3.92, 4.4 ]), <BarContainer object of 5 artists>)\n"
     ]
    }
   ],
   "source": [
    "print(seplen_bins)\n",
    "print(sepwid_bins)"
   ]
  },
  {
   "cell_type": "code",
   "execution_count": 55,
   "id": "5dc14ebb",
   "metadata": {},
   "outputs": [
    {
     "data": {
      "text/plain": [
       "<Figure size 432x288 with 0 Axes>"
      ]
     },
     "metadata": {},
     "output_type": "display_data"
    }
   ],
   "source": [
    "plt.savefig('graph.jpg')"
   ]
  },
  {
   "cell_type": "markdown",
   "id": "ea72bbdc",
   "metadata": {},
   "source": [
    "## Q6"
   ]
  },
  {
   "cell_type": "markdown",
   "id": "9e91ba85",
   "metadata": {},
   "source": [
    "// Stored the dataset as a comma separated values (.csv) file"
   ]
  },
  {
   "cell_type": "markdown",
   "id": "77e81278",
   "metadata": {},
   "source": [
    "#### A) Import the dataset accordingly to `rubies`"
   ]
  },
  {
   "cell_type": "code",
   "execution_count": 56,
   "id": "7bac3922",
   "metadata": {},
   "outputs": [
    {
     "data": {
      "text/html": [
       "<div>\n",
       "<style scoped>\n",
       "    .dataframe tbody tr th:only-of-type {\n",
       "        vertical-align: middle;\n",
       "    }\n",
       "\n",
       "    .dataframe tbody tr th {\n",
       "        vertical-align: top;\n",
       "    }\n",
       "\n",
       "    .dataframe thead th {\n",
       "        text-align: right;\n",
       "    }\n",
       "</style>\n",
       "<table border=\"1\" class=\"dataframe\">\n",
       "  <thead>\n",
       "    <tr style=\"text-align: right;\">\n",
       "      <th></th>\n",
       "      <th>carat</th>\n",
       "      <th>cut</th>\n",
       "      <th>color</th>\n",
       "      <th>clarity</th>\n",
       "      <th>depth</th>\n",
       "      <th>table</th>\n",
       "      <th>price</th>\n",
       "    </tr>\n",
       "    <tr>\n",
       "      <th>pcno</th>\n",
       "      <th></th>\n",
       "      <th></th>\n",
       "      <th></th>\n",
       "      <th></th>\n",
       "      <th></th>\n",
       "      <th></th>\n",
       "      <th></th>\n",
       "    </tr>\n",
       "  </thead>\n",
       "  <tbody>\n",
       "    <tr>\n",
       "      <th>1</th>\n",
       "      <td>0.23</td>\n",
       "      <td>Ideal</td>\n",
       "      <td>E</td>\n",
       "      <td>SI2</td>\n",
       "      <td>61.5</td>\n",
       "      <td>55</td>\n",
       "      <td>326.0</td>\n",
       "    </tr>\n",
       "    <tr>\n",
       "      <th>2</th>\n",
       "      <td>0.21</td>\n",
       "      <td>Premium</td>\n",
       "      <td>E</td>\n",
       "      <td>SI1</td>\n",
       "      <td>59.8</td>\n",
       "      <td>61</td>\n",
       "      <td>326.0</td>\n",
       "    </tr>\n",
       "    <tr>\n",
       "      <th>3</th>\n",
       "      <td>0.23</td>\n",
       "      <td>Good</td>\n",
       "      <td>E</td>\n",
       "      <td>VS1</td>\n",
       "      <td>56.9</td>\n",
       "      <td>65</td>\n",
       "      <td>327.0</td>\n",
       "    </tr>\n",
       "    <tr>\n",
       "      <th>4</th>\n",
       "      <td>0.29</td>\n",
       "      <td>Premium</td>\n",
       "      <td>I</td>\n",
       "      <td>VS2</td>\n",
       "      <td>62.4</td>\n",
       "      <td>58</td>\n",
       "      <td>NaN</td>\n",
       "    </tr>\n",
       "    <tr>\n",
       "      <th>5</th>\n",
       "      <td>0.31</td>\n",
       "      <td>Good</td>\n",
       "      <td>J</td>\n",
       "      <td>SI2</td>\n",
       "      <td>63.3</td>\n",
       "      <td>58</td>\n",
       "      <td>335.0</td>\n",
       "    </tr>\n",
       "    <tr>\n",
       "      <th>6</th>\n",
       "      <td>0.24</td>\n",
       "      <td>Very Good</td>\n",
       "      <td>J</td>\n",
       "      <td>VVS2</td>\n",
       "      <td>NaN</td>\n",
       "      <td>57</td>\n",
       "      <td>336.0</td>\n",
       "    </tr>\n",
       "    <tr>\n",
       "      <th>7</th>\n",
       "      <td>0.24</td>\n",
       "      <td>Very Good</td>\n",
       "      <td>I</td>\n",
       "      <td>VVS1</td>\n",
       "      <td>62.3</td>\n",
       "      <td>57</td>\n",
       "      <td>336.0</td>\n",
       "    </tr>\n",
       "    <tr>\n",
       "      <th>8</th>\n",
       "      <td>0.26</td>\n",
       "      <td>Very Good</td>\n",
       "      <td>H</td>\n",
       "      <td>SI1</td>\n",
       "      <td>61.9</td>\n",
       "      <td>55</td>\n",
       "      <td>337.0</td>\n",
       "    </tr>\n",
       "    <tr>\n",
       "      <th>9</th>\n",
       "      <td>0.22</td>\n",
       "      <td>Fair</td>\n",
       "      <td>E</td>\n",
       "      <td>VS2</td>\n",
       "      <td>65.1</td>\n",
       "      <td>61</td>\n",
       "      <td>NaN</td>\n",
       "    </tr>\n",
       "    <tr>\n",
       "      <th>10</th>\n",
       "      <td>0.23</td>\n",
       "      <td>Very Good</td>\n",
       "      <td>H</td>\n",
       "      <td>VS1</td>\n",
       "      <td>59.4</td>\n",
       "      <td>61</td>\n",
       "      <td>338.0</td>\n",
       "    </tr>\n",
       "    <tr>\n",
       "      <th>11</th>\n",
       "      <td>0.30</td>\n",
       "      <td>Good</td>\n",
       "      <td>J</td>\n",
       "      <td>SI1</td>\n",
       "      <td>64.0</td>\n",
       "      <td>55</td>\n",
       "      <td>339.0</td>\n",
       "    </tr>\n",
       "    <tr>\n",
       "      <th>12</th>\n",
       "      <td>0.23</td>\n",
       "      <td>Ideal</td>\n",
       "      <td>J</td>\n",
       "      <td>VS1</td>\n",
       "      <td>62.8</td>\n",
       "      <td>56</td>\n",
       "      <td>340.0</td>\n",
       "    </tr>\n",
       "    <tr>\n",
       "      <th>13</th>\n",
       "      <td>0.23</td>\n",
       "      <td>Ideal</td>\n",
       "      <td>J</td>\n",
       "      <td>VS1</td>\n",
       "      <td>NaN</td>\n",
       "      <td>56</td>\n",
       "      <td>340.0</td>\n",
       "    </tr>\n",
       "    <tr>\n",
       "      <th>14</th>\n",
       "      <td>0.22</td>\n",
       "      <td>Premium</td>\n",
       "      <td>F</td>\n",
       "      <td>SI1</td>\n",
       "      <td>60.4</td>\n",
       "      <td>61</td>\n",
       "      <td>342.0</td>\n",
       "    </tr>\n",
       "    <tr>\n",
       "      <th>15</th>\n",
       "      <td>0.31</td>\n",
       "      <td>Ideal</td>\n",
       "      <td>J</td>\n",
       "      <td>SI2</td>\n",
       "      <td>62.2</td>\n",
       "      <td>54</td>\n",
       "      <td>344.0</td>\n",
       "    </tr>\n",
       "  </tbody>\n",
       "</table>\n",
       "</div>"
      ],
      "text/plain": [
       "      carat        cut color clarity  depth  table  price\n",
       "pcno                                                     \n",
       "1      0.23      Ideal     E     SI2   61.5     55  326.0\n",
       "2      0.21    Premium     E     SI1   59.8     61  326.0\n",
       "3      0.23       Good     E     VS1   56.9     65  327.0\n",
       "4      0.29    Premium     I     VS2   62.4     58    NaN\n",
       "5      0.31       Good     J     SI2   63.3     58  335.0\n",
       "6      0.24  Very Good     J    VVS2    NaN     57  336.0\n",
       "7      0.24  Very Good     I    VVS1   62.3     57  336.0\n",
       "8      0.26  Very Good     H     SI1   61.9     55  337.0\n",
       "9      0.22       Fair     E     VS2   65.1     61    NaN\n",
       "10     0.23  Very Good     H     VS1   59.4     61  338.0\n",
       "11     0.30       Good     J     SI1   64.0     55  339.0\n",
       "12     0.23      Ideal     J     VS1   62.8     56  340.0\n",
       "13     0.23      Ideal     J     VS1    NaN     56  340.0\n",
       "14     0.22    Premium     F     SI1   60.4     61  342.0\n",
       "15     0.31      Ideal     J     SI2   62.2     54  344.0"
      ]
     },
     "execution_count": 56,
     "metadata": {},
     "output_type": "execute_result"
    }
   ],
   "source": [
    "rubies = pd.read_csv('./Q6.csv', index_col = 'pcno')\n",
    "rubies"
   ]
  },
  {
   "cell_type": "markdown",
   "id": "1134ce18",
   "metadata": {},
   "source": [
    "#### B) Draw box plots for all numerical columns of the dataset in the same chart. Display the median of all numerical attributes in rubies for each type of `cut`."
   ]
  },
  {
   "cell_type": "code",
   "execution_count": 57,
   "id": "e4104810",
   "metadata": {},
   "outputs": [
    {
     "data": {
      "text/html": [
       "<div>\n",
       "<style scoped>\n",
       "    .dataframe tbody tr th:only-of-type {\n",
       "        vertical-align: middle;\n",
       "    }\n",
       "\n",
       "    .dataframe tbody tr th {\n",
       "        vertical-align: top;\n",
       "    }\n",
       "\n",
       "    .dataframe thead th {\n",
       "        text-align: right;\n",
       "    }\n",
       "</style>\n",
       "<table border=\"1\" class=\"dataframe\">\n",
       "  <thead>\n",
       "    <tr style=\"text-align: right;\">\n",
       "      <th></th>\n",
       "      <th>carat</th>\n",
       "      <th>cut</th>\n",
       "      <th>color</th>\n",
       "      <th>clarity</th>\n",
       "      <th>depth</th>\n",
       "      <th>table</th>\n",
       "      <th>price</th>\n",
       "    </tr>\n",
       "    <tr>\n",
       "      <th>pcno</th>\n",
       "      <th></th>\n",
       "      <th></th>\n",
       "      <th></th>\n",
       "      <th></th>\n",
       "      <th></th>\n",
       "      <th></th>\n",
       "      <th></th>\n",
       "    </tr>\n",
       "  </thead>\n",
       "  <tbody>\n",
       "    <tr>\n",
       "      <th>1</th>\n",
       "      <td>0.23</td>\n",
       "      <td>Ideal</td>\n",
       "      <td>E</td>\n",
       "      <td>SI2</td>\n",
       "      <td>61.5</td>\n",
       "      <td>55</td>\n",
       "      <td>326.0</td>\n",
       "    </tr>\n",
       "    <tr>\n",
       "      <th>2</th>\n",
       "      <td>0.21</td>\n",
       "      <td>Premium</td>\n",
       "      <td>E</td>\n",
       "      <td>SI1</td>\n",
       "      <td>59.8</td>\n",
       "      <td>61</td>\n",
       "      <td>326.0</td>\n",
       "    </tr>\n",
       "    <tr>\n",
       "      <th>3</th>\n",
       "      <td>0.23</td>\n",
       "      <td>Good</td>\n",
       "      <td>E</td>\n",
       "      <td>VS1</td>\n",
       "      <td>56.9</td>\n",
       "      <td>65</td>\n",
       "      <td>327.0</td>\n",
       "    </tr>\n",
       "    <tr>\n",
       "      <th>4</th>\n",
       "      <td>0.29</td>\n",
       "      <td>Premium</td>\n",
       "      <td>I</td>\n",
       "      <td>VS2</td>\n",
       "      <td>62.4</td>\n",
       "      <td>58</td>\n",
       "      <td>327.0</td>\n",
       "    </tr>\n",
       "    <tr>\n",
       "      <th>5</th>\n",
       "      <td>0.31</td>\n",
       "      <td>Good</td>\n",
       "      <td>J</td>\n",
       "      <td>SI2</td>\n",
       "      <td>63.3</td>\n",
       "      <td>58</td>\n",
       "      <td>335.0</td>\n",
       "    </tr>\n",
       "    <tr>\n",
       "      <th>6</th>\n",
       "      <td>0.24</td>\n",
       "      <td>Very Good</td>\n",
       "      <td>J</td>\n",
       "      <td>VVS2</td>\n",
       "      <td>63.3</td>\n",
       "      <td>57</td>\n",
       "      <td>336.0</td>\n",
       "    </tr>\n",
       "    <tr>\n",
       "      <th>7</th>\n",
       "      <td>0.24</td>\n",
       "      <td>Very Good</td>\n",
       "      <td>I</td>\n",
       "      <td>VVS1</td>\n",
       "      <td>62.3</td>\n",
       "      <td>57</td>\n",
       "      <td>336.0</td>\n",
       "    </tr>\n",
       "    <tr>\n",
       "      <th>8</th>\n",
       "      <td>0.26</td>\n",
       "      <td>Very Good</td>\n",
       "      <td>H</td>\n",
       "      <td>SI1</td>\n",
       "      <td>61.9</td>\n",
       "      <td>55</td>\n",
       "      <td>337.0</td>\n",
       "    </tr>\n",
       "    <tr>\n",
       "      <th>9</th>\n",
       "      <td>0.22</td>\n",
       "      <td>Fair</td>\n",
       "      <td>E</td>\n",
       "      <td>VS2</td>\n",
       "      <td>65.1</td>\n",
       "      <td>61</td>\n",
       "      <td>337.0</td>\n",
       "    </tr>\n",
       "    <tr>\n",
       "      <th>10</th>\n",
       "      <td>0.23</td>\n",
       "      <td>Very Good</td>\n",
       "      <td>H</td>\n",
       "      <td>VS1</td>\n",
       "      <td>59.4</td>\n",
       "      <td>61</td>\n",
       "      <td>338.0</td>\n",
       "    </tr>\n",
       "    <tr>\n",
       "      <th>11</th>\n",
       "      <td>0.30</td>\n",
       "      <td>Good</td>\n",
       "      <td>J</td>\n",
       "      <td>SI1</td>\n",
       "      <td>64.0</td>\n",
       "      <td>55</td>\n",
       "      <td>339.0</td>\n",
       "    </tr>\n",
       "    <tr>\n",
       "      <th>12</th>\n",
       "      <td>0.23</td>\n",
       "      <td>Ideal</td>\n",
       "      <td>J</td>\n",
       "      <td>VS1</td>\n",
       "      <td>62.8</td>\n",
       "      <td>56</td>\n",
       "      <td>340.0</td>\n",
       "    </tr>\n",
       "    <tr>\n",
       "      <th>13</th>\n",
       "      <td>0.23</td>\n",
       "      <td>Ideal</td>\n",
       "      <td>J</td>\n",
       "      <td>VS1</td>\n",
       "      <td>62.8</td>\n",
       "      <td>56</td>\n",
       "      <td>340.0</td>\n",
       "    </tr>\n",
       "    <tr>\n",
       "      <th>14</th>\n",
       "      <td>0.22</td>\n",
       "      <td>Premium</td>\n",
       "      <td>F</td>\n",
       "      <td>SI1</td>\n",
       "      <td>60.4</td>\n",
       "      <td>61</td>\n",
       "      <td>342.0</td>\n",
       "    </tr>\n",
       "    <tr>\n",
       "      <th>15</th>\n",
       "      <td>0.31</td>\n",
       "      <td>Ideal</td>\n",
       "      <td>J</td>\n",
       "      <td>SI2</td>\n",
       "      <td>62.2</td>\n",
       "      <td>54</td>\n",
       "      <td>344.0</td>\n",
       "    </tr>\n",
       "  </tbody>\n",
       "</table>\n",
       "</div>"
      ],
      "text/plain": [
       "      carat        cut color clarity  depth  table  price\n",
       "pcno                                                     \n",
       "1      0.23      Ideal     E     SI2   61.5     55  326.0\n",
       "2      0.21    Premium     E     SI1   59.8     61  326.0\n",
       "3      0.23       Good     E     VS1   56.9     65  327.0\n",
       "4      0.29    Premium     I     VS2   62.4     58  327.0\n",
       "5      0.31       Good     J     SI2   63.3     58  335.0\n",
       "6      0.24  Very Good     J    VVS2   63.3     57  336.0\n",
       "7      0.24  Very Good     I    VVS1   62.3     57  336.0\n",
       "8      0.26  Very Good     H     SI1   61.9     55  337.0\n",
       "9      0.22       Fair     E     VS2   65.1     61  337.0\n",
       "10     0.23  Very Good     H     VS1   59.4     61  338.0\n",
       "11     0.30       Good     J     SI1   64.0     55  339.0\n",
       "12     0.23      Ideal     J     VS1   62.8     56  340.0\n",
       "13     0.23      Ideal     J     VS1   62.8     56  340.0\n",
       "14     0.22    Premium     F     SI1   60.4     61  342.0\n",
       "15     0.31      Ideal     J     SI2   62.2     54  344.0"
      ]
     },
     "execution_count": 57,
     "metadata": {},
     "output_type": "execute_result"
    }
   ],
   "source": [
    "# Dealing with NaNs\n",
    "rubies.fillna(method='ffill', inplace=True)\n",
    "rubies"
   ]
  },
  {
   "cell_type": "code",
   "execution_count": 58,
   "id": "a50cb4de",
   "metadata": {},
   "outputs": [
    {
     "data": {
      "image/png": "[encoded data removed]",
      "text/plain": [
       "<Figure size 432x288 with 1 Axes>"
      ]
     },
     "metadata": {},
     "output_type": "display_data"
    }
   ],
   "source": [
    "rubies.plot(kind = 'box')\n",
    "plt.title('Box Plots for numerical columns')\n",
    "plt.show()"
   ]
  },
  {
   "cell_type": "code",
   "execution_count": 59,
   "id": "c5a0b842",
   "metadata": {},
   "outputs": [
    {
     "data": {
      "text/html": [
       "<div>\n",
       "<style scoped>\n",
       "    .dataframe tbody tr th:only-of-type {\n",
       "        vertical-align: middle;\n",
       "    }\n",
       "\n",
       "    .dataframe tbody tr th {\n",
       "        vertical-align: top;\n",
       "    }\n",
       "\n",
       "    .dataframe thead th {\n",
       "        text-align: right;\n",
       "    }\n",
       "</style>\n",
       "<table border=\"1\" class=\"dataframe\">\n",
       "  <thead>\n",
       "    <tr style=\"text-align: right;\">\n",
       "      <th></th>\n",
       "      <th>carat</th>\n",
       "      <th>depth</th>\n",
       "      <th>table</th>\n",
       "      <th>price</th>\n",
       "    </tr>\n",
       "    <tr>\n",
       "      <th>cut</th>\n",
       "      <th></th>\n",
       "      <th></th>\n",
       "      <th></th>\n",
       "      <th></th>\n",
       "    </tr>\n",
       "  </thead>\n",
       "  <tbody>\n",
       "    <tr>\n",
       "      <th>Fair</th>\n",
       "      <td>0.22</td>\n",
       "      <td>65.1</td>\n",
       "      <td>61.0</td>\n",
       "      <td>337.0</td>\n",
       "    </tr>\n",
       "    <tr>\n",
       "      <th>Good</th>\n",
       "      <td>0.30</td>\n",
       "      <td>63.3</td>\n",
       "      <td>58.0</td>\n",
       "      <td>335.0</td>\n",
       "    </tr>\n",
       "    <tr>\n",
       "      <th>Ideal</th>\n",
       "      <td>0.23</td>\n",
       "      <td>62.5</td>\n",
       "      <td>55.5</td>\n",
       "      <td>340.0</td>\n",
       "    </tr>\n",
       "    <tr>\n",
       "      <th>Premium</th>\n",
       "      <td>0.22</td>\n",
       "      <td>60.4</td>\n",
       "      <td>61.0</td>\n",
       "      <td>327.0</td>\n",
       "    </tr>\n",
       "    <tr>\n",
       "      <th>Very Good</th>\n",
       "      <td>0.24</td>\n",
       "      <td>62.1</td>\n",
       "      <td>57.0</td>\n",
       "      <td>336.5</td>\n",
       "    </tr>\n",
       "  </tbody>\n",
       "</table>\n",
       "</div>"
      ],
      "text/plain": [
       "           carat  depth  table  price\n",
       "cut                                  \n",
       "Fair        0.22   65.1   61.0  337.0\n",
       "Good        0.30   63.3   58.0  335.0\n",
       "Ideal       0.23   62.5   55.5  340.0\n",
       "Premium     0.22   60.4   61.0  327.0\n",
       "Very Good   0.24   62.1   57.0  336.5"
      ]
     },
     "execution_count": 59,
     "metadata": {},
     "output_type": "execute_result"
    }
   ],
   "source": [
    "rubies.groupby(['cut']).median()"
   ]
  },
  {
   "cell_type": "markdown",
   "id": "05d5d66e",
   "metadata": {},
   "source": [
    "#### C) Display the per carat average price of all rubies grouped by the two attributes `clarity` and `color`."
   ]
  },
  {
   "cell_type": "code",
   "execution_count": 60,
   "id": "da6004f3",
   "metadata": {},
   "outputs": [
    {
     "data": {
      "text/html": [
       "<div>\n",
       "<style scoped>\n",
       "    .dataframe tbody tr th:only-of-type {\n",
       "        vertical-align: middle;\n",
       "    }\n",
       "\n",
       "    .dataframe tbody tr th {\n",
       "        vertical-align: top;\n",
       "    }\n",
       "\n",
       "    .dataframe thead th {\n",
       "        text-align: right;\n",
       "    }\n",
       "</style>\n",
       "<table border=\"1\" class=\"dataframe\">\n",
       "  <thead>\n",
       "    <tr style=\"text-align: right;\">\n",
       "      <th></th>\n",
       "      <th>carat</th>\n",
       "      <th>cut</th>\n",
       "      <th>color</th>\n",
       "      <th>clarity</th>\n",
       "      <th>depth</th>\n",
       "      <th>table</th>\n",
       "      <th>price</th>\n",
       "      <th>price_per_carat</th>\n",
       "    </tr>\n",
       "    <tr>\n",
       "      <th>pcno</th>\n",
       "      <th></th>\n",
       "      <th></th>\n",
       "      <th></th>\n",
       "      <th></th>\n",
       "      <th></th>\n",
       "      <th></th>\n",
       "      <th></th>\n",
       "      <th></th>\n",
       "    </tr>\n",
       "  </thead>\n",
       "  <tbody>\n",
       "    <tr>\n",
       "      <th>1</th>\n",
       "      <td>0.23</td>\n",
       "      <td>Ideal</td>\n",
       "      <td>E</td>\n",
       "      <td>SI2</td>\n",
       "      <td>61.5</td>\n",
       "      <td>55</td>\n",
       "      <td>326.0</td>\n",
       "      <td>1417.391304</td>\n",
       "    </tr>\n",
       "    <tr>\n",
       "      <th>2</th>\n",
       "      <td>0.21</td>\n",
       "      <td>Premium</td>\n",
       "      <td>E</td>\n",
       "      <td>SI1</td>\n",
       "      <td>59.8</td>\n",
       "      <td>61</td>\n",
       "      <td>326.0</td>\n",
       "      <td>1552.380952</td>\n",
       "    </tr>\n",
       "    <tr>\n",
       "      <th>3</th>\n",
       "      <td>0.23</td>\n",
       "      <td>Good</td>\n",
       "      <td>E</td>\n",
       "      <td>VS1</td>\n",
       "      <td>56.9</td>\n",
       "      <td>65</td>\n",
       "      <td>327.0</td>\n",
       "      <td>1421.739130</td>\n",
       "    </tr>\n",
       "    <tr>\n",
       "      <th>4</th>\n",
       "      <td>0.29</td>\n",
       "      <td>Premium</td>\n",
       "      <td>I</td>\n",
       "      <td>VS2</td>\n",
       "      <td>62.4</td>\n",
       "      <td>58</td>\n",
       "      <td>327.0</td>\n",
       "      <td>1127.586207</td>\n",
       "    </tr>\n",
       "    <tr>\n",
       "      <th>5</th>\n",
       "      <td>0.31</td>\n",
       "      <td>Good</td>\n",
       "      <td>J</td>\n",
       "      <td>SI2</td>\n",
       "      <td>63.3</td>\n",
       "      <td>58</td>\n",
       "      <td>335.0</td>\n",
       "      <td>1080.645161</td>\n",
       "    </tr>\n",
       "    <tr>\n",
       "      <th>6</th>\n",
       "      <td>0.24</td>\n",
       "      <td>Very Good</td>\n",
       "      <td>J</td>\n",
       "      <td>VVS2</td>\n",
       "      <td>63.3</td>\n",
       "      <td>57</td>\n",
       "      <td>336.0</td>\n",
       "      <td>1400.000000</td>\n",
       "    </tr>\n",
       "    <tr>\n",
       "      <th>7</th>\n",
       "      <td>0.24</td>\n",
       "      <td>Very Good</td>\n",
       "      <td>I</td>\n",
       "      <td>VVS1</td>\n",
       "      <td>62.3</td>\n",
       "      <td>57</td>\n",
       "      <td>336.0</td>\n",
       "      <td>1400.000000</td>\n",
       "    </tr>\n",
       "    <tr>\n",
       "      <th>8</th>\n",
       "      <td>0.26</td>\n",
       "      <td>Very Good</td>\n",
       "      <td>H</td>\n",
       "      <td>SI1</td>\n",
       "      <td>61.9</td>\n",
       "      <td>55</td>\n",
       "      <td>337.0</td>\n",
       "      <td>1296.153846</td>\n",
       "    </tr>\n",
       "    <tr>\n",
       "      <th>9</th>\n",
       "      <td>0.22</td>\n",
       "      <td>Fair</td>\n",
       "      <td>E</td>\n",
       "      <td>VS2</td>\n",
       "      <td>65.1</td>\n",
       "      <td>61</td>\n",
       "      <td>337.0</td>\n",
       "      <td>1531.818182</td>\n",
       "    </tr>\n",
       "    <tr>\n",
       "      <th>10</th>\n",
       "      <td>0.23</td>\n",
       "      <td>Very Good</td>\n",
       "      <td>H</td>\n",
       "      <td>VS1</td>\n",
       "      <td>59.4</td>\n",
       "      <td>61</td>\n",
       "      <td>338.0</td>\n",
       "      <td>1469.565217</td>\n",
       "    </tr>\n",
       "    <tr>\n",
       "      <th>11</th>\n",
       "      <td>0.30</td>\n",
       "      <td>Good</td>\n",
       "      <td>J</td>\n",
       "      <td>SI1</td>\n",
       "      <td>64.0</td>\n",
       "      <td>55</td>\n",
       "      <td>339.0</td>\n",
       "      <td>1130.000000</td>\n",
       "    </tr>\n",
       "    <tr>\n",
       "      <th>12</th>\n",
       "      <td>0.23</td>\n",
       "      <td>Ideal</td>\n",
       "      <td>J</td>\n",
       "      <td>VS1</td>\n",
       "      <td>62.8</td>\n",
       "      <td>56</td>\n",
       "      <td>340.0</td>\n",
       "      <td>1478.260870</td>\n",
       "    </tr>\n",
       "    <tr>\n",
       "      <th>13</th>\n",
       "      <td>0.23</td>\n",
       "      <td>Ideal</td>\n",
       "      <td>J</td>\n",
       "      <td>VS1</td>\n",
       "      <td>62.8</td>\n",
       "      <td>56</td>\n",
       "      <td>340.0</td>\n",
       "      <td>1478.260870</td>\n",
       "    </tr>\n",
       "    <tr>\n",
       "      <th>14</th>\n",
       "      <td>0.22</td>\n",
       "      <td>Premium</td>\n",
       "      <td>F</td>\n",
       "      <td>SI1</td>\n",
       "      <td>60.4</td>\n",
       "      <td>61</td>\n",
       "      <td>342.0</td>\n",
       "      <td>1554.545455</td>\n",
       "    </tr>\n",
       "    <tr>\n",
       "      <th>15</th>\n",
       "      <td>0.31</td>\n",
       "      <td>Ideal</td>\n",
       "      <td>J</td>\n",
       "      <td>SI2</td>\n",
       "      <td>62.2</td>\n",
       "      <td>54</td>\n",
       "      <td>344.0</td>\n",
       "      <td>1109.677419</td>\n",
       "    </tr>\n",
       "  </tbody>\n",
       "</table>\n",
       "</div>"
      ],
      "text/plain": [
       "      carat        cut color clarity  depth  table  price  price_per_carat\n",
       "pcno                                                                      \n",
       "1      0.23      Ideal     E     SI2   61.5     55  326.0      1417.391304\n",
       "2      0.21    Premium     E     SI1   59.8     61  326.0      1552.380952\n",
       "3      0.23       Good     E     VS1   56.9     65  327.0      1421.739130\n",
       "4      0.29    Premium     I     VS2   62.4     58  327.0      1127.586207\n",
       "5      0.31       Good     J     SI2   63.3     58  335.0      1080.645161\n",
       "6      0.24  Very Good     J    VVS2   63.3     57  336.0      1400.000000\n",
       "7      0.24  Very Good     I    VVS1   62.3     57  336.0      1400.000000\n",
       "8      0.26  Very Good     H     SI1   61.9     55  337.0      1296.153846\n",
       "9      0.22       Fair     E     VS2   65.1     61  337.0      1531.818182\n",
       "10     0.23  Very Good     H     VS1   59.4     61  338.0      1469.565217\n",
       "11     0.30       Good     J     SI1   64.0     55  339.0      1130.000000\n",
       "12     0.23      Ideal     J     VS1   62.8     56  340.0      1478.260870\n",
       "13     0.23      Ideal     J     VS1   62.8     56  340.0      1478.260870\n",
       "14     0.22    Premium     F     SI1   60.4     61  342.0      1554.545455\n",
       "15     0.31      Ideal     J     SI2   62.2     54  344.0      1109.677419"
      ]
     },
     "execution_count": 60,
     "metadata": {},
     "output_type": "execute_result"
    }
   ],
   "source": [
    "rubies['price_per_carat'] = rubies['price'] / rubies['carat']\n",
    "rubies"
   ]
  },
  {
   "cell_type": "code",
   "execution_count": 61,
   "id": "6516bfd7",
   "metadata": {},
   "outputs": [
    {
     "data": {
      "text/plain": [
       "clarity  color\n",
       "SI1      E        1552.380952\n",
       "         F        1554.545455\n",
       "         H        1296.153846\n",
       "         J        1130.000000\n",
       "SI2      E        1417.391304\n",
       "         J        1095.161290\n",
       "VS1      E        1421.739130\n",
       "         H        1469.565217\n",
       "         J        1478.260870\n",
       "VS2      E        1531.818182\n",
       "         I        1127.586207\n",
       "VVS1     I        1400.000000\n",
       "VVS2     J        1400.000000\n",
       "Name: price_per_carat, dtype: float64"
      ]
     },
     "execution_count": 61,
     "metadata": {},
     "output_type": "execute_result"
    }
   ],
   "source": [
    "rubies.groupby(['clarity', 'color'])['price_per_carat'].mean()"
   ]
  },
  {
   "cell_type": "markdown",
   "id": "92257067",
   "metadata": {},
   "source": [
    "#### D) Normalize all quantitative features in range of [0,1]"
   ]
  },
  {
   "cell_type": "code",
   "execution_count": 62,
   "id": "28e1b24e",
   "metadata": {},
   "outputs": [
    {
     "data": {
      "text/html": [
       "<div>\n",
       "<style scoped>\n",
       "    .dataframe tbody tr th:only-of-type {\n",
       "        vertical-align: middle;\n",
       "    }\n",
       "\n",
       "    .dataframe tbody tr th {\n",
       "        vertical-align: top;\n",
       "    }\n",
       "\n",
       "    .dataframe thead th {\n",
       "        text-align: right;\n",
       "    }\n",
       "</style>\n",
       "<table border=\"1\" class=\"dataframe\">\n",
       "  <thead>\n",
       "    <tr style=\"text-align: right;\">\n",
       "      <th></th>\n",
       "      <th>carat</th>\n",
       "      <th>cut</th>\n",
       "      <th>color</th>\n",
       "      <th>clarity</th>\n",
       "      <th>depth</th>\n",
       "      <th>table</th>\n",
       "      <th>price</th>\n",
       "      <th>price_per_carat</th>\n",
       "    </tr>\n",
       "    <tr>\n",
       "      <th>pcno</th>\n",
       "      <th></th>\n",
       "      <th></th>\n",
       "      <th></th>\n",
       "      <th></th>\n",
       "      <th></th>\n",
       "      <th></th>\n",
       "      <th></th>\n",
       "      <th></th>\n",
       "    </tr>\n",
       "  </thead>\n",
       "  <tbody>\n",
       "    <tr>\n",
       "      <th>1</th>\n",
       "      <td>0.2</td>\n",
       "      <td>Ideal</td>\n",
       "      <td>E</td>\n",
       "      <td>SI2</td>\n",
       "      <td>0.560976</td>\n",
       "      <td>0.090909</td>\n",
       "      <td>0.000000</td>\n",
       "      <td>0.710584</td>\n",
       "    </tr>\n",
       "    <tr>\n",
       "      <th>2</th>\n",
       "      <td>0.0</td>\n",
       "      <td>Premium</td>\n",
       "      <td>E</td>\n",
       "      <td>SI1</td>\n",
       "      <td>0.353659</td>\n",
       "      <td>0.636364</td>\n",
       "      <td>0.000000</td>\n",
       "      <td>0.995433</td>\n",
       "    </tr>\n",
       "    <tr>\n",
       "      <th>3</th>\n",
       "      <td>0.2</td>\n",
       "      <td>Good</td>\n",
       "      <td>E</td>\n",
       "      <td>VS1</td>\n",
       "      <td>0.000000</td>\n",
       "      <td>1.000000</td>\n",
       "      <td>0.055556</td>\n",
       "      <td>0.719759</td>\n",
       "    </tr>\n",
       "    <tr>\n",
       "      <th>4</th>\n",
       "      <td>0.8</td>\n",
       "      <td>Premium</td>\n",
       "      <td>I</td>\n",
       "      <td>VS2</td>\n",
       "      <td>0.670732</td>\n",
       "      <td>0.363636</td>\n",
       "      <td>0.055556</td>\n",
       "      <td>0.099053</td>\n",
       "    </tr>\n",
       "    <tr>\n",
       "      <th>5</th>\n",
       "      <td>1.0</td>\n",
       "      <td>Good</td>\n",
       "      <td>J</td>\n",
       "      <td>SI2</td>\n",
       "      <td>0.780488</td>\n",
       "      <td>0.363636</td>\n",
       "      <td>0.500000</td>\n",
       "      <td>0.000000</td>\n",
       "    </tr>\n",
       "    <tr>\n",
       "      <th>6</th>\n",
       "      <td>0.3</td>\n",
       "      <td>Very Good</td>\n",
       "      <td>J</td>\n",
       "      <td>VVS2</td>\n",
       "      <td>0.780488</td>\n",
       "      <td>0.272727</td>\n",
       "      <td>0.555556</td>\n",
       "      <td>0.673886</td>\n",
       "    </tr>\n",
       "    <tr>\n",
       "      <th>7</th>\n",
       "      <td>0.3</td>\n",
       "      <td>Very Good</td>\n",
       "      <td>I</td>\n",
       "      <td>VVS1</td>\n",
       "      <td>0.658537</td>\n",
       "      <td>0.272727</td>\n",
       "      <td>0.555556</td>\n",
       "      <td>0.673886</td>\n",
       "    </tr>\n",
       "    <tr>\n",
       "      <th>8</th>\n",
       "      <td>0.5</td>\n",
       "      <td>Very Good</td>\n",
       "      <td>H</td>\n",
       "      <td>SI1</td>\n",
       "      <td>0.609756</td>\n",
       "      <td>0.090909</td>\n",
       "      <td>0.611111</td>\n",
       "      <td>0.454755</td>\n",
       "    </tr>\n",
       "    <tr>\n",
       "      <th>9</th>\n",
       "      <td>0.1</td>\n",
       "      <td>Fair</td>\n",
       "      <td>E</td>\n",
       "      <td>VS2</td>\n",
       "      <td>1.000000</td>\n",
       "      <td>0.636364</td>\n",
       "      <td>0.611111</td>\n",
       "      <td>0.952042</td>\n",
       "    </tr>\n",
       "    <tr>\n",
       "      <th>10</th>\n",
       "      <td>0.2</td>\n",
       "      <td>Very Good</td>\n",
       "      <td>H</td>\n",
       "      <td>VS1</td>\n",
       "      <td>0.304878</td>\n",
       "      <td>0.636364</td>\n",
       "      <td>0.666667</td>\n",
       "      <td>0.820679</td>\n",
       "    </tr>\n",
       "    <tr>\n",
       "      <th>11</th>\n",
       "      <td>0.9</td>\n",
       "      <td>Good</td>\n",
       "      <td>J</td>\n",
       "      <td>SI1</td>\n",
       "      <td>0.865854</td>\n",
       "      <td>0.090909</td>\n",
       "      <td>0.722222</td>\n",
       "      <td>0.104146</td>\n",
       "    </tr>\n",
       "    <tr>\n",
       "      <th>12</th>\n",
       "      <td>0.2</td>\n",
       "      <td>Ideal</td>\n",
       "      <td>J</td>\n",
       "      <td>VS1</td>\n",
       "      <td>0.719512</td>\n",
       "      <td>0.181818</td>\n",
       "      <td>0.777778</td>\n",
       "      <td>0.839028</td>\n",
       "    </tr>\n",
       "    <tr>\n",
       "      <th>13</th>\n",
       "      <td>0.2</td>\n",
       "      <td>Ideal</td>\n",
       "      <td>J</td>\n",
       "      <td>VS1</td>\n",
       "      <td>0.719512</td>\n",
       "      <td>0.181818</td>\n",
       "      <td>0.777778</td>\n",
       "      <td>0.839028</td>\n",
       "    </tr>\n",
       "    <tr>\n",
       "      <th>14</th>\n",
       "      <td>0.1</td>\n",
       "      <td>Premium</td>\n",
       "      <td>F</td>\n",
       "      <td>SI1</td>\n",
       "      <td>0.426829</td>\n",
       "      <td>0.636364</td>\n",
       "      <td>0.888889</td>\n",
       "      <td>1.000000</td>\n",
       "    </tr>\n",
       "    <tr>\n",
       "      <th>15</th>\n",
       "      <td>1.0</td>\n",
       "      <td>Ideal</td>\n",
       "      <td>J</td>\n",
       "      <td>SI2</td>\n",
       "      <td>0.646341</td>\n",
       "      <td>0.000000</td>\n",
       "      <td>1.000000</td>\n",
       "      <td>0.061262</td>\n",
       "    </tr>\n",
       "  </tbody>\n",
       "</table>\n",
       "</div>"
      ],
      "text/plain": [
       "      carat        cut color clarity     depth     table     price  \\\n",
       "pcno                                                                 \n",
       "1       0.2      Ideal     E     SI2  0.560976  0.090909  0.000000   \n",
       "2       0.0    Premium     E     SI1  0.353659  0.636364  0.000000   \n",
       "3       0.2       Good     E     VS1  0.000000  1.000000  0.055556   \n",
       "4       0.8    Premium     I     VS2  0.670732  0.363636  0.055556   \n",
       "5       1.0       Good     J     SI2  0.780488  0.363636  0.500000   \n",
       "6       0.3  Very Good     J    VVS2  0.780488  0.272727  0.555556   \n",
       "7       0.3  Very Good     I    VVS1  0.658537  0.272727  0.555556   \n",
       "8       0.5  Very Good     H     SI1  0.609756  0.090909  0.611111   \n",
       "9       0.1       Fair     E     VS2  1.000000  0.636364  0.611111   \n",
       "10      0.2  Very Good     H     VS1  0.304878  0.636364  0.666667   \n",
       "11      0.9       Good     J     SI1  0.865854  0.090909  0.722222   \n",
       "12      0.2      Ideal     J     VS1  0.719512  0.181818  0.777778   \n",
       "13      0.2      Ideal     J     VS1  0.719512  0.181818  0.777778   \n",
       "14      0.1    Premium     F     SI1  0.426829  0.636364  0.888889   \n",
       "15      1.0      Ideal     J     SI2  0.646341  0.000000  1.000000   \n",
       "\n",
       "      price_per_carat  \n",
       "pcno                   \n",
       "1            0.710584  \n",
       "2            0.995433  \n",
       "3            0.719759  \n",
       "4            0.099053  \n",
       "5            0.000000  \n",
       "6            0.673886  \n",
       "7            0.673886  \n",
       "8            0.454755  \n",
       "9            0.952042  \n",
       "10           0.820679  \n",
       "11           0.104146  \n",
       "12           0.839028  \n",
       "13           0.839028  \n",
       "14           1.000000  \n",
       "15           0.061262  "
      ]
     },
     "execution_count": 62,
     "metadata": {},
     "output_type": "execute_result"
    }
   ],
   "source": [
    "rubies.apply(lambda x: (x - x.min())/(x.max() - x.min()) if x.dtype in ['float64', 'int64'] else x)"
   ]
  },
  {
   "cell_type": "markdown",
   "id": "4c4bc85c",
   "metadata": {},
   "source": [
    "#### E) Draw word cloud for attribute `cut`."
   ]
  },
  {
   "cell_type": "code",
   "execution_count": 63,
   "id": "880f132a",
   "metadata": {},
   "outputs": [
    {
     "data": {
      "text/plain": [
       "Ideal        4\n",
       "Very Good    4\n",
       "Premium      3\n",
       "Good         3\n",
       "Fair         1\n",
       "Name: cut, dtype: int64"
      ]
     },
     "execution_count": 63,
     "metadata": {},
     "output_type": "execute_result"
    }
   ],
   "source": [
    "rubies['cut'].value_counts()"
   ]
  }
 ],
 "metadata": {
  "kernelspec": {
   "display_name": "Python 3 (ipykernel)",
   "language": "python",
   "name": "python3"
  },
  "language_info": {
   "codemirror_mode": {
    "name": "ipython",
    "version": 3
   },
   "file_extension": ".py",
   "mimetype": "text/x-python",
   "name": "python",
   "nbconvert_exporter": "python",
   "pygments_lexer": "ipython3",
   "version": "3.12.0"
  }
 },
 "nbformat": 4,
 "nbformat_minor": 5
}
