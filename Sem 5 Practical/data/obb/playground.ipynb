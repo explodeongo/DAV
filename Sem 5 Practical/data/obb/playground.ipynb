{
 "cells": [
  {
   "cell_type": "code",
   "execution_count": 37,
   "id": "4cd36801",
   "metadata": {},
   "outputs": [],
   "source": [
    "import numpy as np\n",
    "import pandas as pd\n",
    "import matplotlib.pyplot as plt\n",
    "import seaborn as sns"
   ]
  },
  {
   "cell_type": "code",
   "execution_count": 6,
   "id": "36de2b34",
   "metadata": {},
   "outputs": [
    {
     "data": {
      "text/html": [
       "<div>\n",
       "<style scoped>\n",
       "    .dataframe tbody tr th:only-of-type {\n",
       "        vertical-align: middle;\n",
       "    }\n",
       "\n",
       "    .dataframe tbody tr th {\n",
       "        vertical-align: top;\n",
       "    }\n",
       "\n",
       "    .dataframe thead th {\n",
       "        text-align: right;\n",
       "    }\n",
       "</style>\n",
       "<table border=\"1\" class=\"dataframe\">\n",
       "  <thead>\n",
       "    <tr style=\"text-align: right;\">\n",
       "      <th></th>\n",
       "      <th>ID</th>\n",
       "      <th>Name</th>\n",
       "      <th>Diet</th>\n",
       "      <th>Pulse</th>\n",
       "      <th>Time</th>\n",
       "      <th>Kind</th>\n",
       "    </tr>\n",
       "  </thead>\n",
       "  <tbody>\n",
       "    <tr>\n",
       "      <th>0</th>\n",
       "      <td>0</td>\n",
       "      <td>A</td>\n",
       "      <td>low fat</td>\n",
       "      <td>85</td>\n",
       "      <td>40</td>\n",
       "      <td>walking</td>\n",
       "    </tr>\n",
       "    <tr>\n",
       "      <th>1</th>\n",
       "      <td>1</td>\n",
       "      <td>A</td>\n",
       "      <td>low fat</td>\n",
       "      <td>85</td>\n",
       "      <td>45</td>\n",
       "      <td>walking</td>\n",
       "    </tr>\n",
       "    <tr>\n",
       "      <th>2</th>\n",
       "      <td>2</td>\n",
       "      <td>A</td>\n",
       "      <td>no fat</td>\n",
       "      <td>88</td>\n",
       "      <td>30</td>\n",
       "      <td>running</td>\n",
       "    </tr>\n",
       "    <tr>\n",
       "      <th>3</th>\n",
       "      <td>3</td>\n",
       "      <td>B</td>\n",
       "      <td>no fat</td>\n",
       "      <td>90</td>\n",
       "      <td>10</td>\n",
       "      <td>walking</td>\n",
       "    </tr>\n",
       "    <tr>\n",
       "      <th>4</th>\n",
       "      <td>4</td>\n",
       "      <td>B</td>\n",
       "      <td>no fat</td>\n",
       "      <td>92</td>\n",
       "      <td>15</td>\n",
       "      <td>rest</td>\n",
       "    </tr>\n",
       "  </tbody>\n",
       "</table>\n",
       "</div>"
      ],
      "text/plain": [
       "   ID Name     Diet  Pulse  Time     Kind\n",
       "0   0    A  low fat     85    40  walking\n",
       "1   1    A  low fat     85    45  walking\n",
       "2   2    A   no fat     88    30  running\n",
       "3   3    B   no fat     90    10  walking\n",
       "4   4    B   no fat     92    15     rest"
      ]
     },
     "execution_count": 6,
     "metadata": {},
     "output_type": "execute_result"
    }
   ],
   "source": [
    "df = pd.read_csv('exer.csv')\n",
    "df.head()"
   ]
  },
  {
   "cell_type": "code",
   "execution_count": 7,
   "id": "fc20cd81",
   "metadata": {
    "scrolled": true
   },
   "outputs": [
    {
     "data": {
      "text/html": [
       "<div>\n",
       "<style scoped>\n",
       "    .dataframe tbody tr th:only-of-type {\n",
       "        vertical-align: middle;\n",
       "    }\n",
       "\n",
       "    .dataframe tbody tr th {\n",
       "        vertical-align: top;\n",
       "    }\n",
       "\n",
       "    .dataframe thead th {\n",
       "        text-align: right;\n",
       "    }\n",
       "</style>\n",
       "<table border=\"1\" class=\"dataframe\">\n",
       "  <thead>\n",
       "    <tr style=\"text-align: right;\">\n",
       "      <th></th>\n",
       "      <th></th>\n",
       "      <th>Diet</th>\n",
       "      <th>Pulse</th>\n",
       "      <th>Time</th>\n",
       "      <th>Kind</th>\n",
       "    </tr>\n",
       "    <tr>\n",
       "      <th>ID</th>\n",
       "      <th>Name</th>\n",
       "      <th></th>\n",
       "      <th></th>\n",
       "      <th></th>\n",
       "      <th></th>\n",
       "    </tr>\n",
       "  </thead>\n",
       "  <tbody>\n",
       "    <tr>\n",
       "      <th>0</th>\n",
       "      <th>A</th>\n",
       "      <td>low fat</td>\n",
       "      <td>85</td>\n",
       "      <td>40</td>\n",
       "      <td>walking</td>\n",
       "    </tr>\n",
       "    <tr>\n",
       "      <th>1</th>\n",
       "      <th>A</th>\n",
       "      <td>low fat</td>\n",
       "      <td>85</td>\n",
       "      <td>45</td>\n",
       "      <td>walking</td>\n",
       "    </tr>\n",
       "    <tr>\n",
       "      <th>2</th>\n",
       "      <th>A</th>\n",
       "      <td>no fat</td>\n",
       "      <td>88</td>\n",
       "      <td>30</td>\n",
       "      <td>running</td>\n",
       "    </tr>\n",
       "    <tr>\n",
       "      <th>3</th>\n",
       "      <th>B</th>\n",
       "      <td>no fat</td>\n",
       "      <td>90</td>\n",
       "      <td>10</td>\n",
       "      <td>walking</td>\n",
       "    </tr>\n",
       "    <tr>\n",
       "      <th>4</th>\n",
       "      <th>B</th>\n",
       "      <td>no fat</td>\n",
       "      <td>92</td>\n",
       "      <td>15</td>\n",
       "      <td>rest</td>\n",
       "    </tr>\n",
       "  </tbody>\n",
       "</table>\n",
       "</div>"
      ],
      "text/plain": [
       "            Diet  Pulse  Time     Kind\n",
       "ID Name                               \n",
       "0  A     low fat     85    40  walking\n",
       "1  A     low fat     85    45  walking\n",
       "2  A      no fat     88    30  running\n",
       "3  B      no fat     90    10  walking\n",
       "4  B      no fat     92    15     rest"
      ]
     },
     "execution_count": 7,
     "metadata": {},
     "output_type": "execute_result"
    }
   ],
   "source": [
    "df.set_index(['ID', 'Name'], inplace=True)\n",
    "df.head()"
   ]
  },
  {
   "cell_type": "code",
   "execution_count": 24,
   "id": "16a869fc",
   "metadata": {},
   "outputs": [
    {
     "name": "stderr",
     "output_type": "stream",
     "text": [
      "C:\\Users\\Maitray\\AppData\\Local\\Temp\\ipykernel_9236\\208042712.py:9: RuntimeWarning: divide by zero encountered in log\n",
      "  ax3.plot(np.log(np.arange(0, 300)))\n"
     ]
    },
    {
     "data": {
      "image/png": "[encoded data removed]",
      "text/plain": [
       "<Figure size 1440x432 with 4 Axes>"
      ]
     },
     "metadata": {
      "needs_background": "light"
     },
     "output_type": "display_data"
    }
   ],
   "source": [
    "fig, ((ax1, ax2), (ax3, ax4)) = plt.subplots(2, 2, figsize=(20, 6))\n",
    "\n",
    "ax1.plot(np.arange(0, 300))\n",
    "ax1.set_title('Linear')\n",
    "\n",
    "ax2.plot(np.sqrt(np.arange(0, 300)))\n",
    "ax2.set_title('Inverse Exp')\n",
    "\n",
    "ax3.plot(np.log(np.arange(0, 300)))\n",
    "ax3.set_title('Log')\n",
    "\n",
    "ax4.plot(np.cbrt(np.arange(0, 300)))\n",
    "ax4.set_title('Cube Root')\n",
    "\n",
    "plt.show()"
   ]
  },
  {
   "cell_type": "code",
   "execution_count": 35,
   "id": "c97c2a11",
   "metadata": {},
   "outputs": [
    {
     "data": {
      "image/png": "[encoded data removed]",
      "text/plain": [
       "<Figure size 720x576 with 1 Axes>"
      ]
     },
     "metadata": {
      "needs_background": "light"
     },
     "output_type": "display_data"
    }
   ],
   "source": [
    "fig, ax = plt.subplots(1, 1, figsize=(10, 8))\n",
    "\n",
    "df.plot(kind='barh', ax=ax, stacked=True)\n",
    "\n",
    "plt.show()"
   ]
  },
  {
   "cell_type": "code",
   "execution_count": 39,
   "id": "b5b3cf00",
   "metadata": {},
   "outputs": [],
   "source": [
    "sns.set()"
   ]
  },
  {
   "cell_type": "code",
   "execution_count": 55,
   "id": "0a0a8bf7",
   "metadata": {},
   "outputs": [
    {
     "data": {
      "text/plain": [
       "<AxesSubplot:xlabel='Pulse', ylabel='Count'>"
      ]
     },
     "execution_count": 55,
     "metadata": {},
     "output_type": "execute_result"
    },
    {
     "data": {
      "image/png": "[encoded data removed]",
      "text/plain": [
       "<Figure size 432x288 with 1 Axes>"
      ]
     },
     "metadata": {},
     "output_type": "display_data"
    }
   ],
   "source": [
    "sns.histplot(df['Pulse'])"
   ]
  },
  {
   "cell_type": "code",
   "execution_count": 59,
   "id": "966d241d",
   "metadata": {},
   "outputs": [
    {
     "data": {
      "text/html": [
       "<div>\n",
       "<style scoped>\n",
       "    .dataframe tbody tr th:only-of-type {\n",
       "        vertical-align: middle;\n",
       "    }\n",
       "\n",
       "    .dataframe tbody tr th {\n",
       "        vertical-align: top;\n",
       "    }\n",
       "\n",
       "    .dataframe thead th {\n",
       "        text-align: right;\n",
       "    }\n",
       "</style>\n",
       "<table border=\"1\" class=\"dataframe\">\n",
       "  <thead>\n",
       "    <tr style=\"text-align: right;\">\n",
       "      <th></th>\n",
       "      <th></th>\n",
       "      <th>Diet</th>\n",
       "      <th>Pulse</th>\n",
       "      <th>Time</th>\n",
       "      <th>Kind</th>\n",
       "    </tr>\n",
       "    <tr>\n",
       "      <th>ID</th>\n",
       "      <th>Name</th>\n",
       "      <th></th>\n",
       "      <th></th>\n",
       "      <th></th>\n",
       "      <th></th>\n",
       "    </tr>\n",
       "  </thead>\n",
       "  <tbody>\n",
       "    <tr>\n",
       "      <th>0</th>\n",
       "      <th>A</th>\n",
       "      <td>low fat</td>\n",
       "      <td>85</td>\n",
       "      <td>40</td>\n",
       "      <td>walking</td>\n",
       "    </tr>\n",
       "    <tr>\n",
       "      <th>1</th>\n",
       "      <th>A</th>\n",
       "      <td>low fat</td>\n",
       "      <td>85</td>\n",
       "      <td>45</td>\n",
       "      <td>walking</td>\n",
       "    </tr>\n",
       "    <tr>\n",
       "      <th>2</th>\n",
       "      <th>A</th>\n",
       "      <td>no fat</td>\n",
       "      <td>88</td>\n",
       "      <td>30</td>\n",
       "      <td>running</td>\n",
       "    </tr>\n",
       "    <tr>\n",
       "      <th>3</th>\n",
       "      <th>B</th>\n",
       "      <td>no fat</td>\n",
       "      <td>90</td>\n",
       "      <td>10</td>\n",
       "      <td>walking</td>\n",
       "    </tr>\n",
       "    <tr>\n",
       "      <th>4</th>\n",
       "      <th>B</th>\n",
       "      <td>no fat</td>\n",
       "      <td>92</td>\n",
       "      <td>15</td>\n",
       "      <td>rest</td>\n",
       "    </tr>\n",
       "    <tr>\n",
       "      <th>5</th>\n",
       "      <th>B</th>\n",
       "      <td>low fat</td>\n",
       "      <td>93</td>\n",
       "      <td>30</td>\n",
       "      <td>rest</td>\n",
       "    </tr>\n",
       "    <tr>\n",
       "      <th>6</th>\n",
       "      <th>C</th>\n",
       "      <td>low fat</td>\n",
       "      <td>97</td>\n",
       "      <td>15</td>\n",
       "      <td>rest</td>\n",
       "    </tr>\n",
       "    <tr>\n",
       "      <th>7</th>\n",
       "      <th>C</th>\n",
       "      <td>low fat</td>\n",
       "      <td>97</td>\n",
       "      <td>15</td>\n",
       "      <td>rest</td>\n",
       "    </tr>\n",
       "    <tr>\n",
       "      <th>8</th>\n",
       "      <th>C</th>\n",
       "      <td>low fat</td>\n",
       "      <td>94</td>\n",
       "      <td>30</td>\n",
       "      <td>walking</td>\n",
       "    </tr>\n",
       "    <tr>\n",
       "      <th>9</th>\n",
       "      <th>D</th>\n",
       "      <td>low fat</td>\n",
       "      <td>80</td>\n",
       "      <td>10</td>\n",
       "      <td>walking</td>\n",
       "    </tr>\n",
       "    <tr>\n",
       "      <th>10</th>\n",
       "      <th>D</th>\n",
       "      <td>low fat</td>\n",
       "      <td>82</td>\n",
       "      <td>15</td>\n",
       "      <td>rest</td>\n",
       "    </tr>\n",
       "    <tr>\n",
       "      <th>11</th>\n",
       "      <th>D</th>\n",
       "      <td>low fat</td>\n",
       "      <td>83</td>\n",
       "      <td>30</td>\n",
       "      <td>rest</td>\n",
       "    </tr>\n",
       "    <tr>\n",
       "      <th>12</th>\n",
       "      <th>E</th>\n",
       "      <td>no fat</td>\n",
       "      <td>91</td>\n",
       "      <td>10</td>\n",
       "      <td>rest</td>\n",
       "    </tr>\n",
       "    <tr>\n",
       "      <th>13</th>\n",
       "      <th>E</th>\n",
       "      <td>low fat</td>\n",
       "      <td>92</td>\n",
       "      <td>15</td>\n",
       "      <td>running</td>\n",
       "    </tr>\n",
       "    <tr>\n",
       "      <th>14</th>\n",
       "      <th>E</th>\n",
       "      <td>low fat</td>\n",
       "      <td>91</td>\n",
       "      <td>30</td>\n",
       "      <td>running</td>\n",
       "    </tr>\n",
       "  </tbody>\n",
       "</table>\n",
       "</div>"
      ],
      "text/plain": [
       "            Diet  Pulse  Time     Kind\n",
       "ID Name                               \n",
       "0  A     low fat     85    40  walking\n",
       "1  A     low fat     85    45  walking\n",
       "2  A      no fat     88    30  running\n",
       "3  B      no fat     90    10  walking\n",
       "4  B      no fat     92    15     rest\n",
       "5  B     low fat     93    30     rest\n",
       "6  C     low fat     97    15     rest\n",
       "7  C     low fat     97    15     rest\n",
       "8  C     low fat     94    30  walking\n",
       "9  D     low fat     80    10  walking\n",
       "10 D     low fat     82    15     rest\n",
       "11 D     low fat     83    30     rest\n",
       "12 E      no fat     91    10     rest\n",
       "13 E     low fat     92    15  running\n",
       "14 E     low fat     91    30  running"
      ]
     },
     "execution_count": 59,
     "metadata": {},
     "output_type": "execute_result"
    }
   ],
   "source": [
    "df"
   ]
  },
  {
   "cell_type": "code",
   "execution_count": 62,
   "id": "90b0ce4e",
   "metadata": {},
   "outputs": [
    {
     "data": {
      "text/plain": [
       "Name  Diet   \n",
       "A     low fat    85\n",
       "      no fat     88\n",
       "B     low fat    93\n",
       "      no fat     92\n",
       "C     low fat    97\n",
       "D     low fat    83\n",
       "E     low fat    92\n",
       "      no fat     91\n",
       "Name: Pulse, dtype: int64"
      ]
     },
     "execution_count": 62,
     "metadata": {},
     "output_type": "execute_result"
    }
   ],
   "source": [
    "df.groupby(['Name', 'Diet'])['Pulse'].max()"
   ]
  },
  {
   "cell_type": "code",
   "execution_count": 65,
   "id": "6b34613c",
   "metadata": {},
   "outputs": [
    {
     "data": {
      "text/html": [
       "<div>\n",
       "<style scoped>\n",
       "    .dataframe tbody tr th:only-of-type {\n",
       "        vertical-align: middle;\n",
       "    }\n",
       "\n",
       "    .dataframe tbody tr th {\n",
       "        vertical-align: top;\n",
       "    }\n",
       "\n",
       "    .dataframe thead th {\n",
       "        text-align: right;\n",
       "    }\n",
       "</style>\n",
       "<table border=\"1\" class=\"dataframe\">\n",
       "  <thead>\n",
       "    <tr style=\"text-align: right;\">\n",
       "      <th>Kind</th>\n",
       "      <th>rest</th>\n",
       "      <th>running</th>\n",
       "      <th>walking</th>\n",
       "    </tr>\n",
       "    <tr>\n",
       "      <th>Diet</th>\n",
       "      <th></th>\n",
       "      <th></th>\n",
       "      <th></th>\n",
       "    </tr>\n",
       "  </thead>\n",
       "  <tbody>\n",
       "    <tr>\n",
       "      <th>low fat</th>\n",
       "      <td>5</td>\n",
       "      <td>2</td>\n",
       "      <td>4</td>\n",
       "    </tr>\n",
       "    <tr>\n",
       "      <th>no fat</th>\n",
       "      <td>2</td>\n",
       "      <td>1</td>\n",
       "      <td>1</td>\n",
       "    </tr>\n",
       "  </tbody>\n",
       "</table>\n",
       "</div>"
      ],
      "text/plain": [
       "Kind     rest  running  walking\n",
       "Diet                           \n",
       "low fat     5        2        4\n",
       "no fat      2        1        1"
      ]
     },
     "execution_count": 65,
     "metadata": {},
     "output_type": "execute_result"
    }
   ],
   "source": [
    "pd.crosstab(df['Diet'], df['Kind'])"
   ]
  },
  {
   "cell_type": "code",
   "execution_count": null,
   "id": "335a0078",
   "metadata": {},
   "outputs": [],
   "source": []
  }
 ],
 "metadata": {
  "kernelspec": {
   "display_name": "Python 3 (ipykernel)",
   "language": "python",
   "name": "python3"
  },
  "language_info": {
   "codemirror_mode": {
    "name": "ipython",
    "version": 3
   },
   "file_extension": ".py",
   "mimetype": "text/x-python",
   "name": "python",
   "nbconvert_exporter": "python",
   "pygments_lexer": "ipython3",
   "version": "3.12.0"
  }
 },
 "nbformat": 4,
 "nbformat_minor": 5
}
