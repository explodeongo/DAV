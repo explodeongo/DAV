{
 "cells": [
  {
   "cell_type": "code",
   "execution_count": 1,
   "id": "fe236dd5",
   "metadata": {},
   "outputs": [],
   "source": [
    "import numpy as np\n",
    "import pandas as pd"
   ]
  },
  {
   "cell_type": "code",
   "execution_count": 53,
   "id": "c7393ecb",
   "metadata": {},
   "outputs": [
    {
     "name": "stdout",
     "output_type": "stream",
     "text": [
      "[{'Boys': 72, 'Girls': 63}, {'Boys': 68, 'Girls': 65}, {'Boys': 70, 'Girls': 69}, {'Boys': 69, 'Girls': 62}, {'Boys': 74, 'Girls': 61}]\n"
     ]
    }
   ],
   "source": [
    "# Question 1\n",
    "\n",
    "genderCount = {'Boys': [72, 68, 70, 69, 74], 'Girls': [63, 65, 69, 62, 61]}\n",
    "\n",
    "res = []\n",
    "\n",
    "for i in range(len(genderCount['Boys'])):\n",
    "    res.append({ 'Boys': genderCount['Boys'][i], 'Girls': genderCount['Girls'][i] })\n",
    "\n",
    "print(res)"
   ]
  },
  {
   "cell_type": "code",
   "execution_count": 65,
   "id": "4bc4feea",
   "metadata": {},
   "outputs": [
    {
     "name": "stdout",
     "output_type": "stream",
     "text": [
      "[[11 75 92 69]\n",
      " [59  1 27 24]\n",
      " [34 60 36 84]\n",
      " [15 53  4 84]]\n",
      "[61.75 27.75 53.5  39.  ]\n",
      "[30.49077729 20.65641547 20.36541185 31.70961999]\n",
      "[ 929.6875  426.6875  414.75   1005.5   ]\n"
     ]
    }
   ],
   "source": [
    "# Question 2\n",
    "\n",
    "# 2.1\n",
    "\n",
    "arr = np.random.randint(low=0, high=100, size=(4,4))\n",
    "print(arr)\n",
    "print(np.mean(arr, axis=1))\n",
    "print(np.std(arr, axis=1))\n",
    "print(np.var(arr, axis=1))"
   ]
  },
  {
   "cell_type": "code",
   "execution_count": 58,
   "id": "c97c50a0",
   "metadata": {},
   "outputs": [
    {
     "name": "stdout",
     "output_type": "stream",
     "text": [
      "[47 42 92 12 28 66 75]\n"
     ]
    },
    {
     "data": {
      "text/plain": [
       "array([3, 4, 1, 0, 5, 6, 2], dtype=int64)"
      ]
     },
     "execution_count": 58,
     "metadata": {},
     "output_type": "execute_result"
    }
   ],
   "source": [
    "# 2.2\n",
    "\n",
    "arr = np.random.randint(low=0, high=100, size=(7,))\n",
    "print(arr)\n",
    "np.argsort(arr)"
   ]
  },
  {
   "cell_type": "code",
   "execution_count": 75,
   "id": "2b1500b5",
   "metadata": {},
   "outputs": [
    {
     "name": "stdout",
     "output_type": "stream",
     "text": [
      "45 47\n",
      "Shape: (45, 47)\n",
      "Dimensionality: 2D\n",
      "Data Type: int32\n",
      "212 5\n",
      "Cannot reshape array of size 2115 into shape (212, 5).\n"
     ]
    }
   ],
   "source": [
    "# 2.3\n",
    "\n",
    "m, n = input().split(\" \")\n",
    "m, n = int(m), int(n)\n",
    "\n",
    "arr = np.random.randint(low=0, high=100, size=(m, n))\n",
    "\n",
    "print(\"Shape:\", arr.shape)\n",
    "print(\"Dimensionality: \", len(arr.shape), 'D', sep='')\n",
    "print(\"Data Type:\", arr.dtype)\n",
    "\n",
    "m, n = input().split(\" \")\n",
    "m, n = int(m), int(n)\n",
    "\n",
    "try:\n",
    "    print(\"Reshaped array:\\n\", arr.reshape(n, m))\n",
    "\n",
    "except:\n",
    "    print(f'Cannot reshape array of size {arr.size} into shape ({m}, {n}).')"
   ]
  },
  {
   "cell_type": "code",
   "execution_count": 63,
   "id": "6d27549c",
   "metadata": {},
   "outputs": [
    {
     "name": "stdout",
     "output_type": "stream",
     "text": [
      "Generated array : [ 0.  1. nan  0.  0. nan nan  1.  1.  0.]\n",
      "Zeroes: (array([0, 3, 4, 9], dtype=int64),)\n",
      "NaNs: (array([2, 5, 6], dtype=int64),)\n",
      "Non-Zeroes: [1 7 8]\n"
     ]
    }
   ],
   "source": [
    "# 2.4\n",
    "\n",
    "arr = np.random.choice([0, 1, np.nan], (10,))\n",
    "print('Generated array :', arr)\n",
    "\n",
    "zeroes = np.where(arr == 0)\n",
    "nans = np.where(np.isnan(arr))\n",
    "nzeroes = np.array([i for i in range(len(arr)) if arr[i] != 0 and np.isnan(arr[i]) == False])\n",
    "\n",
    "print('Zeroes:', zeroes)\n",
    "print('NaNs:', nans)\n",
    "print('Non-Zeroes:', nzeroes)"
   ]
  }
 ],
 "metadata": {
  "kernelspec": {
   "display_name": "Python 3 (ipykernel)",
   "language": "python",
   "name": "python3"
  },
  "language_info": {
   "codemirror_mode": {
    "name": "ipython",
    "version": 3
   },
   "file_extension": ".py",
   "mimetype": "text/x-python",
   "name": "python",
   "nbconvert_exporter": "python",
   "pygments_lexer": "ipython3",
   "version": "3.12.0"
  }
 },
 "nbformat": 4,
 "nbformat_minor": 5
}
