{
 "cells": [
  {
   "cell_type": "markdown",
   "id": "a46006dc-79bc-4c70-b6f4-e2be35e638d6",
   "metadata": {},
   "source": [
    "## Q1\n",
    "1. Consider a list of values:\r\n",
    "bag = [25,26,21,22,31,29,33,34,26,30,31,46]"
   ]
  },
  {
   "cell_type": "code",
   "execution_count": 3,
   "id": "7e220eba-c959-4625-9cd5-74c194636b09",
   "metadata": {},
   "outputs": [
    {
     "data": {
      "text/plain": [
       "array([[25, 26, 21, 22],\n",
       "       [31, 29, 33, 34],\n",
       "       [26, 30, 31, 46]])"
      ]
     },
     "execution_count": 3,
     "metadata": {},
     "output_type": "execute_result"
    }
   ],
   "source": [
    "import numpy as np\n",
    "\n",
    "bag = [25, 26, 21, 22, 31, 29, 33, 34, 26, 30, 31, 46]\n",
    "bag_weights = np.array(bag).reshape(3, 4)\n",
    "bag\n",
    "bag_weights"
   ]
  },
  {
   "cell_type": "code",
   "execution_count": 4,
   "id": "7355b64a-bd58-49af-a854-9208c15fb2d3",
   "metadata": {},
   "outputs": [
    {
     "name": "stdout",
     "output_type": "stream",
     "text": [
      "Mean: 29.5\n",
      "Variance: 40.25\n",
      "Median: 29.5\n"
     ]
    }
   ],
   "source": [
    "mean_value = np.mean(bag_weights)\n",
    "variance_value = np.var(bag_weights)\n",
    "median_value = np.median(bag_weights)\n",
    "\n",
    "print(\"Mean:\", mean_value)\n",
    "print(\"Variance:\", variance_value)\n",
    "print(\"Median:\", median_value)\n"
   ]
  },
  {
   "cell_type": "code",
   "execution_count": 5,
   "id": "a09aa909-d7d9-448b-8396-38f1a2699ee5",
   "metadata": {},
   "outputs": [
    {
     "name": "stdout",
     "output_type": "stream",
     "text": [
      "Count of values greater than the median: 6\n"
     ]
    }
   ],
   "source": [
    "count_greater_than_median = np.sum(bag_weights > median_value)\n",
    "print(\"Count of values greater than the median:\", count_greater_than_median)\n"
   ]
  },
  {
   "cell_type": "code",
   "execution_count": 7,
   "id": "0d433840-a928-4875-8604-4731d80476cd",
   "metadata": {},
   "outputs": [
    {
     "data": {
      "text/plain": [
       "array([[25, 31, 26],\n",
       "       [26, 29, 30],\n",
       "       [21, 33, 31],\n",
       "       [22, 34, 46]])"
      ]
     },
     "execution_count": 7,
     "metadata": {},
     "output_type": "execute_result"
    }
   ],
   "source": [
    "transposed_bag_weights = np.transpose(bag_weights)\n",
    "bagA, bagB = np.split(transposed_bag_weights, 2)\n",
    "transposed_bag_weights"
   ]
  },
  {
   "cell_type": "code",
   "execution_count": 10,
   "id": "0f72cda1-2560-4ef3-b21e-37bb05608d7c",
   "metadata": {},
   "outputs": [
    {
     "data": {
      "text/plain": [
       "array([[26, 29, 30],\n",
       "       [25, 31, 26]])"
      ]
     },
     "execution_count": 10,
     "metadata": {},
     "output_type": "execute_result"
    }
   ],
   "source": [
    "# Sort bagA in descending order based on the first column\n",
    "bagA = bagA[np.argsort(bagA[:, 0])[::-1]]\n",
    "\n",
    "# Sort bagB in ascending order based on the first column\n",
    "bagB = bagB[np.argsort(bagB[:, 0])]\n",
    "\n",
    "bagA"
   ]
  },
  {
   "cell_type": "code",
   "execution_count": 11,
   "id": "f87b1c2f-5584-44c1-9702-784937ec698e",
   "metadata": {},
   "outputs": [
    {
     "data": {
      "text/plain": [
       "array([[21, 33, 31],\n",
       "       [22, 34, 46]])"
      ]
     },
     "execution_count": 11,
     "metadata": {},
     "output_type": "execute_result"
    }
   ],
   "source": [
    "bagB"
   ]
  },
  {
   "cell_type": "code",
   "execution_count": 9,
   "id": "a3b0795a-0484-40ae-abf6-f58095efed6b",
   "metadata": {},
   "outputs": [
    {
     "name": "stdout",
     "output_type": "stream",
     "text": [
      "Union of bagA and bagB: [21 22 25 26 29 30 31 33 34 46]\n",
      "Intersection of bagA and bagB: [31]\n"
     ]
    }
   ],
   "source": [
    "union_result = np.union1d(bagA, bagB)\n",
    "intersection_result = np.intersect1d(bagA, bagB)\n",
    "\n",
    "print(\"Union of bagA and bagB:\", union_result)\n",
    "print(\"Intersection of bagA and bagB:\", intersection_result)\n"
   ]
  },
  {
   "cell_type": "code",
   "execution_count": null,
   "id": "2dde61ef-0cd7-4bbc-813c-3066098ef845",
   "metadata": {},
   "outputs": [],
   "source": []
  }
 ],
 "metadata": {
  "kernelspec": {
   "display_name": "Python 3 (ipykernel)",
   "language": "python",
   "name": "python3"
  },
  "language_info": {
   "codemirror_mode": {
    "name": "ipython",
    "version": 3
   },
   "file_extension": ".py",
   "mimetype": "text/x-python",
   "name": "python",
   "nbconvert_exporter": "python",
   "pygments_lexer": "ipython3",
   "version": "3.12.0"
  }
 },
 "nbformat": 4,
 "nbformat_minor": 5
}
